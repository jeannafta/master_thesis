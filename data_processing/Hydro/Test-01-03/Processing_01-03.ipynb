{
 "cells": [
  {
   "cell_type": "code",
   "execution_count": 1,
   "id": "1da203c8-e525-43f4-8cc7-1520cfae31b7",
   "metadata": {},
   "outputs": [],
   "source": [
    "import numpy as np\n",
    "import pandas as pd\n",
    "import matplotlib.pyplot as plt\n",
    "import tikzplotlib\n",
    "\n",
    "#check website https://jwalton.info/Embed-Publication-Matplotlib-Latex/\n",
    "#plt.style.use('seaborn')\n",
    "params = {# Latex\n",
    "        \"text.usetex\": True,\n",
    "        \"font.family\": \"serif\",\n",
    "        \"font.serif\" : [\"Computer Modern Serif\"],\n",
    "        # Font size (adpated to the size of my master's thesis which is of 12pts)\n",
    "        \"axes.labelsize\": 12,\n",
    "        \"font.size\": 12,\n",
    "        \"legend.fontsize\": 10,\n",
    "        \"xtick.labelsize\": 10,\n",
    "        \"ytick.labelsize\": 10,\n",
    "        # Color of ticks and labels\n",
    "        \"ytick.color\" : \"black\",\n",
    "        \"xtick.color\" : \"black\",\n",
    "        \"axes.labelcolor\" : \"black\",\n",
    "        \"axes.edgecolor\" : \"black\",\n",
    "        }\n",
    "plt.rcParams.update(params)"
   ]
  },
  {
   "cell_type": "code",
   "execution_count": 2,
   "id": "2bc55356-993a-49e4-94d6-dff336bdf149",
   "metadata": {},
   "outputs": [],
   "source": [
    "# text width of my latex document\n",
    "width = 505.89 # text width of my latex document is 505.89pt. \n",
    "\n",
    "# Function taken from: https://jwalton.info/Embed-Publication-Matplotlib-Latex/\n",
    "def set_size(width, fraction=1, subplots=(1, 1)):\n",
    "    \"\"\"Set figure dimensions to avoid scaling in LaTeX.\n",
    "\n",
    "    Parameters\n",
    "    ----------\n",
    "    width: float or string\n",
    "            Document width in points, or string of predined document type\n",
    "    fraction: float, optional\n",
    "            Fraction of the width which you wish the figure to occupy\n",
    "    subplots: array-like, optional\n",
    "            The number of rows and columns of subplots.\n",
    "    Returns\n",
    "    -------\n",
    "    fig_dim: tuple\n",
    "            Dimensions of figure in inches\n",
    "    \"\"\"\n",
    "    width_pt = width\n",
    "\n",
    "    # Width of figure (in pts)\n",
    "    fig_width_pt = width_pt * fraction\n",
    "    # Convert from pt to inches\n",
    "    inches_per_pt = 1 / 72.27\n",
    "\n",
    "    # Golden ratio to set aesthetic figure height\n",
    "    # https://disq.us/p/2940ij3\n",
    "    golden_ratio = (5**.5 - 1) / 2\n",
    "\n",
    "    # Figure width in inches\n",
    "    fig_width_in = fig_width_pt * inches_per_pt\n",
    "    # Figure height in inches\n",
    "    fig_height_in = fig_width_in * golden_ratio * (subplots[0] / subplots[1])\n",
    "\n",
    "    return (fig_width_in, fig_height_in)"
   ]
  },
  {
   "cell_type": "markdown",
   "id": "26212e36-94d4-43d6-88cb-5dfe846c627c",
   "metadata": {},
   "source": [
    "## Import data"
   ]
  },
  {
   "cell_type": "code",
   "execution_count": 3,
   "id": "c4a4a244-ef8a-4785-8a52-8da94976e8b2",
   "metadata": {},
   "outputs": [
    {
     "data": {
      "text/html": [
       "<div>\n",
       "<style scoped>\n",
       "    .dataframe tbody tr th:only-of-type {\n",
       "        vertical-align: middle;\n",
       "    }\n",
       "\n",
       "    .dataframe tbody tr th {\n",
       "        vertical-align: top;\n",
       "    }\n",
       "\n",
       "    .dataframe thead th {\n",
       "        text-align: right;\n",
       "    }\n",
       "</style>\n",
       "<table border=\"1\" class=\"dataframe\">\n",
       "  <thead>\n",
       "    <tr style=\"text-align: right;\">\n",
       "      <th></th>\n",
       "      <th>Time</th>\n",
       "      <th>Pressure</th>\n",
       "      <th>ISCO1FlowRate</th>\n",
       "      <th>ISCO2FlowRate</th>\n",
       "    </tr>\n",
       "  </thead>\n",
       "  <tbody>\n",
       "    <tr>\n",
       "      <th>0</th>\n",
       "      <td>150929</td>\n",
       "      <td>0.249</td>\n",
       "      <td>0.0</td>\n",
       "      <td>0.0</td>\n",
       "    </tr>\n",
       "    <tr>\n",
       "      <th>1</th>\n",
       "      <td>150930</td>\n",
       "      <td>0.249</td>\n",
       "      <td>0.0</td>\n",
       "      <td>0.0</td>\n",
       "    </tr>\n",
       "    <tr>\n",
       "      <th>2</th>\n",
       "      <td>150931</td>\n",
       "      <td>0.249</td>\n",
       "      <td>0.0</td>\n",
       "      <td>0.0</td>\n",
       "    </tr>\n",
       "  </tbody>\n",
       "</table>\n",
       "</div>"
      ],
      "text/plain": [
       "     Time  Pressure  ISCO1FlowRate  ISCO2FlowRate\n",
       "0  150929     0.249            0.0            0.0\n",
       "1  150930     0.249            0.0            0.0\n",
       "2  150931     0.249            0.0            0.0"
      ]
     },
     "execution_count": 3,
     "metadata": {},
     "output_type": "execute_result"
    }
   ],
   "source": [
    "df = pd.read_csv('150928.csv', usecols=[\"Time\", \" LFmeasurement0\", \" ISCO1FlowRate\", \" ISCO2FlowRate\"], dtype = {'Time': int})\n",
    "df.rename(columns={' LFmeasurement0': 'Pressure', ' ISCO1FlowRate': 'ISCO1FlowRate', ' ISCO2FlowRate': 'ISCO2FlowRate'}, inplace=True)\n",
    "df.head(3)"
   ]
  },
  {
   "cell_type": "markdown",
   "id": "83d4fa31-8d06-42aa-ae33-d48de85c784b",
   "metadata": {},
   "source": [
    "## Data processing"
   ]
  },
  {
   "cell_type": "markdown",
   "id": "6d8cdbe7-033e-442e-8c0a-6c1bb2b75991",
   "metadata": {},
   "source": [
    "#### Processing of time"
   ]
  },
  {
   "cell_type": "code",
   "execution_count": 4,
   "id": "6b337abd-7c51-43ed-9e70-96bcacfb102e",
   "metadata": {},
   "outputs": [],
   "source": [
    "def HourMinuteSecond_to_Second(t, t_ini):\n",
    "    \"\"\"Function to convert csv time format to second. \n",
    "    In fact the computer is recording every second so not very useful function but keep in case.\"\"\"\n",
    "    # split time into Hour, Minutes and Second\n",
    "    t_split, t_ini_split = [], []\n",
    "    for i in range(len(str(t)), 0 , -2):\n",
    "        t_split.append(str(t)[i-2:i])\n",
    "        t_ini_split.append(str(t_ini)[i-2:i])\n",
    "    # compute time in second\n",
    "    t_s = int(t_split[0]) + int(t_split[1])*60 + int(t_split[2])*3600\n",
    "    t_ini_s = int(t_ini_split[0]) + int(t_ini_split[1])*60 + int(t_ini_split[2])*3600\n",
    "    # compute delta time in second\n",
    "    return t_s - t_ini_s"
   ]
  },
  {
   "cell_type": "code",
   "execution_count": 5,
   "id": "23f9a575-dd4b-47d2-8edf-e58a05e31c67",
   "metadata": {},
   "outputs": [],
   "source": [
    "# from Time column get delta time since the beginning of the experiment in second\n",
    "df.Time = df[\"Time\"].apply(HourMinuteSecond_to_Second, t_ini = df.Time[0])"
   ]
  },
  {
   "cell_type": "markdown",
   "id": "768b6aa2-98bb-4747-810d-6f37f36cf5a5",
   "metadata": {},
   "source": [
    "#### Processing of pressure"
   ]
  },
  {
   "cell_type": "code",
   "execution_count": 6,
   "id": "dba2247e-e7b8-4c47-9ffb-4b3258dd2ee6",
   "metadata": {},
   "outputs": [
    {
     "data": {
      "text/html": [
       "<div>\n",
       "<style scoped>\n",
       "    .dataframe tbody tr th:only-of-type {\n",
       "        vertical-align: middle;\n",
       "    }\n",
       "\n",
       "    .dataframe tbody tr th {\n",
       "        vertical-align: top;\n",
       "    }\n",
       "\n",
       "    .dataframe thead th {\n",
       "        text-align: right;\n",
       "    }\n",
       "</style>\n",
       "<table border=\"1\" class=\"dataframe\">\n",
       "  <thead>\n",
       "    <tr style=\"text-align: right;\">\n",
       "      <th></th>\n",
       "      <th>Time</th>\n",
       "      <th>Pressure</th>\n",
       "      <th>ISCO1FlowRate</th>\n",
       "      <th>ISCO2FlowRate</th>\n",
       "    </tr>\n",
       "  </thead>\n",
       "  <tbody>\n",
       "    <tr>\n",
       "      <th>0</th>\n",
       "      <td>0</td>\n",
       "      <td>0.0</td>\n",
       "      <td>0.0</td>\n",
       "      <td>0.0</td>\n",
       "    </tr>\n",
       "    <tr>\n",
       "      <th>1</th>\n",
       "      <td>1</td>\n",
       "      <td>0.0</td>\n",
       "      <td>0.0</td>\n",
       "      <td>0.0</td>\n",
       "    </tr>\n",
       "    <tr>\n",
       "      <th>2</th>\n",
       "      <td>2</td>\n",
       "      <td>0.0</td>\n",
       "      <td>0.0</td>\n",
       "      <td>0.0</td>\n",
       "    </tr>\n",
       "  </tbody>\n",
       "</table>\n",
       "</div>"
      ],
      "text/plain": [
       "   Time  Pressure  ISCO1FlowRate  ISCO2FlowRate\n",
       "0     0       0.0            0.0            0.0\n",
       "1     1       0.0            0.0            0.0\n",
       "2     2       0.0            0.0            0.0"
      ]
     },
     "execution_count": 6,
     "metadata": {},
     "output_type": "execute_result"
    }
   ],
   "source": [
    "# we need to sustract the initial offset from pressure data\n",
    "df.Pressure = df[\"Pressure\"].apply(lambda x: (x-df.Pressure[0]))\n",
    "df.head(3)"
   ]
  },
  {
   "cell_type": "markdown",
   "id": "26da35d9-ee53-4c35-ac8a-358b08f07897",
   "metadata": {},
   "source": [
    "#### Processing of flow rate"
   ]
  },
  {
   "cell_type": "code",
   "execution_count": 7,
   "id": "80edd3a6-552a-4f61-884d-cc353f685b1d",
   "metadata": {},
   "outputs": [
    {
     "data": {
      "text/plain": [
       " 0.000      6541\n",
       " 0.050       520\n",
       " 0.500       436\n",
       " 0.250       217\n",
       " 0.025       190\n",
       " 0.400        64\n",
       " 0.100        52\n",
       " 2.500        22\n",
       "-107.000      14\n",
       "Name: ISCO1FlowRate, dtype: int64"
      ]
     },
     "execution_count": 7,
     "metadata": {},
     "output_type": "execute_result"
    }
   ],
   "source": [
    "# small check to know which flows have been used during the experiment\n",
    "df.ISCO1FlowRate.value_counts()[df.ISCO1FlowRate.value_counts()>10]"
   ]
  },
  {
   "cell_type": "code",
   "execution_count": 8,
   "id": "dae8f9ac-4900-4d4a-b999-1f57917a1257",
   "metadata": {},
   "outputs": [
    {
     "data": {
      "text/plain": [
       " 0.000      6549\n",
       " 0.250       217\n",
       " 0.500       214\n",
       " 0.025       193\n",
       " 0.050       137\n",
       " 1.000       103\n",
       " 0.400        64\n",
       " 2.500        22\n",
       "-107.000      12\n",
       " 0.435        11\n",
       "Name: ISCO2FlowRate, dtype: int64"
      ]
     },
     "execution_count": 8,
     "metadata": {},
     "output_type": "execute_result"
    }
   ],
   "source": [
    "df.ISCO2FlowRate.value_counts()[df.ISCO2FlowRate.value_counts()>10]"
   ]
  },
  {
   "cell_type": "code",
   "execution_count": 9,
   "id": "ebb8eed7-b636-4a43-9283-dda965753a06",
   "metadata": {},
   "outputs": [],
   "source": [
    "# using the information from the last two cells we can define a list of possible flow rates for the pumps\n",
    "possible_ISCO_flow_list = [0.000, 0.050, 0.500, 0.250, 0.025, 0.400, 0.100, 2.500, 1.000]"
   ]
  },
  {
   "cell_type": "code",
   "execution_count": 10,
   "id": "38faf021-d6b5-4af5-8f02-f914fc6d5346",
   "metadata": {},
   "outputs": [],
   "source": [
    "def FlowInjected(ISCO1FlowRate, ISCO2FlowRate):\n",
    "    \"\"\"Function to get real flow rate imposed during the experiment\"\"\"\n",
    "    FlowRate_sum = ISCO1FlowRate + ISCO2FlowRate\n",
    "    for possible_ISCO_flow in possible_ISCO_flow_list:\n",
    "        #if FlowRate_sum == 2*possible_ISCO_flow:\n",
    "        if abs(FlowRate_sum - 2*possible_ISCO_flow)<0.0001:\n",
    "            return FlowRate_sum\n",
    "        \n",
    "    for possible_ISCO_flow in possible_ISCO_flow_list:  \n",
    "        if ISCO1FlowRate == possible_ISCO_flow:\n",
    "            return ISCO1FlowRate\n",
    "    \n",
    "    return ISCO2FlowRate"
   ]
  },
  {
   "cell_type": "code",
   "execution_count": 11,
   "id": "527f6302-4251-46d8-bc07-ee27c2ae91c6",
   "metadata": {},
   "outputs": [],
   "source": [
    "df[\"FlowRate\"] = df.apply(lambda row: FlowInjected(row.ISCO1FlowRate, row.ISCO2FlowRate), axis=1)"
   ]
  },
  {
   "cell_type": "code",
   "execution_count": 12,
   "id": "bb03d00a-8699-4bc3-9b3d-6483f6f727f1",
   "metadata": {},
   "outputs": [
    {
     "data": {
      "text/plain": [
       "<Axes: >"
      ]
     },
     "execution_count": 12,
     "metadata": {},
     "output_type": "execute_result"
    },
    {
     "data": {
      "image/png": "[encoded data removed]",
      "text/plain": [
       "<Figure size 453.6x280.34 with 1 Axes>"
      ]
     },
     "metadata": {
      "needs_background": "light"
     },
     "output_type": "display_data"
    }
   ],
   "source": [
    "df[\"FlowRate\"][0:3000].plot(figsize=set_size(width, fraction=0.9))"
   ]
  },
  {
   "cell_type": "code",
   "execution_count": 13,
   "id": "2024b849-49e0-40ce-a61d-f3acb34cea34",
   "metadata": {},
   "outputs": [
    {
     "data": {
      "text/plain": [
       "<Axes: >"
      ]
     },
     "execution_count": 13,
     "metadata": {},
     "output_type": "execute_result"
    },
    {
     "data": {
      "image/png": "[encoded data removed]",
      "text/plain": [
       "<Figure size 453.6x280.34 with 1 Axes>"
      ]
     },
     "metadata": {
      "needs_background": "light"
     },
     "output_type": "display_data"
    }
   ],
   "source": [
    "# other small data cleaning manually\n",
    "import warnings\n",
    "warnings.filterwarnings('ignore')\n",
    "\n",
    "df.loc[30:50, \"FlowRate\"]=0.5\n",
    "df.loc[2000:2020, \"FlowRate\"]=0.05\n",
    "df[\"FlowRate\"][2235] = 0.5\n",
    "df[\"FlowRate\"][2373] = 0.5\n",
    "df[\"FlowRate\"][0:3000].plot(figsize=set_size(width, fraction=0.9))"
   ]
  },
  {
   "cell_type": "markdown",
   "id": "608e9ca4-d300-4c9a-a0d3-2e636d9a545e",
   "metadata": {},
   "source": [
    "#### Calculation of volume injected"
   ]
  },
  {
   "cell_type": "code",
   "execution_count": 14,
   "id": "71878a51-7023-4ce7-a613-44a8856029d7",
   "metadata": {},
   "outputs": [],
   "source": [
    "df[\"VolumeInjected\"] = df.FlowRate.cumsum(axis = 0)/60. #devide by 60 because flow rate is in mL/min and we need it in mL/s"
   ]
  },
  {
   "cell_type": "markdown",
   "id": "1ce51156-b72c-4fe7-9f0e-ffebeb27dd01",
   "metadata": {},
   "source": [
    "## Data visualization"
   ]
  },
  {
   "cell_type": "markdown",
   "id": "0affef6d-9333-4638-8f3c-6031f409d002",
   "metadata": {},
   "source": [
    "#### Data from experiment "
   ]
  },
  {
   "cell_type": "raw",
   "id": "f0e90cc9-44e7-4d33-acb2-fad2294dcf9c",
   "metadata": {},
   "source": [
    "# flow rate \n",
    "df[\"FlowRate\"].plot()\n",
    "plt.xlabel('Time [s]')\n",
    "plt.ylabel('Flow rate [mL/min]')\n",
    "plt.title('Flow rate as a function of time')"
   ]
  },
  {
   "cell_type": "raw",
   "id": "79268daf-2f9d-4f27-bad3-f1763594868f",
   "metadata": {},
   "source": [
    "# pressure\n",
    "df[\"Pressure\"].plot()\n",
    "plt.xlabel('Time [s]')\n",
    "plt.ylabel('Pressure [MPa]')\n",
    "plt.title('Pressure as a function of time')"
   ]
  },
  {
   "cell_type": "raw",
   "id": "c8eef2d6-7313-47ee-a7d7-94b609ebea4e",
   "metadata": {},
   "source": [
    "# volume injected\n",
    "df[\"VolumeInjected\"].plot()\n",
    "plt.xlabel('Time [s]')\n",
    "plt.ylabel('Total volume injected [mL]')\n",
    "plt.title('Total volume injected as a function of time')"
   ]
  },
  {
   "cell_type": "code",
   "execution_count": 15,
   "id": "106fc538-21e4-4dbf-91e9-7d9f5280b48a",
   "metadata": {},
   "outputs": [
    {
     "data": {
      "image/png": "[encoded data removed]",
      "text/plain": [
       "<Figure size 504x311.489 with 4 Axes>"
      ]
     },
     "metadata": {
      "needs_background": "light"
     },
     "output_type": "display_data"
    }
   ],
   "source": [
    "# process of flow data\n",
    "# remark: this plot is more complicated so we set the font manually knowing that the latex text size is 12pts\n",
    "fig, ax = plt.subplots(2, 2, figsize=set_size(width, fraction=1), sharey = True, sharex = True) #figsize= (18,11)\n",
    "ax[0, 0].plot(df[\"Time\"], df[\"ISCO1FlowRate\"])\n",
    "ax[0, 0].set_title(\"ISCO 1 Flow rate\", fontsize=10)\n",
    "ax[0, 1].plot(df[\"Time\"], df[\"ISCO2FlowRate\"])\n",
    "ax[0, 1].set_title(\"ISCO 2 Flow rate\", fontsize=10)\n",
    "SumFlowRate = df[\"ISCO1FlowRate\"]+df[\"ISCO2FlowRate\"]\n",
    "#SumFlowRate[SumFlowRate < 0] = 0 #replace all negative values with 0\n",
    "ax[1, 0].plot(df[\"Time\"], SumFlowRate)\n",
    "ax[1, 0].set_title(\"ISCO 1 + ISCO 2 Flow rate\", fontsize=10)\n",
    "ax[1, 1].plot(df[\"Time\"], df[\"FlowRate\"])\n",
    "ax[1, 1].set_title(\"Flow rate after signal processing + inference\", fontsize=10)\n",
    "\n",
    "ax[0, 0].set_xlim(0, 3000)\n",
    "ax[0, 0].set_ylim(-3, 5.5)\n",
    "fig.text(0.48,-0.03, \"Time [s]\", fontsize=12)\n",
    "fig.text(-0.03,0.43, \"Flow rate [mL/min]\", rotation = 90, fontsize=12)\n",
    "    \n",
    "fig.tight_layout()\n",
    "\n",
    "#save in png high quality for google slides\n",
    "plt.savefig(\"FlowRate.png\", format=\"png\", bbox_inches=\"tight\", dpi=600)"
   ]
  },
  {
   "cell_type": "code",
   "execution_count": 16,
   "id": "ec751601-01b8-4714-afb8-c03aced47602",
   "metadata": {},
   "outputs": [
    {
     "data": {
      "image/png": "[encoded data removed]",
      "text/plain": [
       "<Figure size 453.6x280.34 with 2 Axes>"
      ]
     },
     "metadata": {
      "needs_background": "light"
     },
     "output_type": "display_data"
    }
   ],
   "source": [
    "# flow rate vs volume injected\n",
    "fig, ax1 = plt.subplots(figsize=set_size(width, fraction=0.9))\n",
    "ax1.plot(df[\"Time\"], df[\"FlowRate\"]) \n",
    "ax1.set_xlabel('Time [s]')\n",
    "ax1.set_xlim(0, 4000)\n",
    "ax1.set_ylabel('Flow rate [mL/min]')\n",
    "ax1.set_ylim(0, 2)\n",
    "ax1.legend(['Flow rate'], loc=\"upper left\")\n",
    "\n",
    "ax2 = ax1.twinx()# plot bar chart on axis #2\n",
    "ax2.plot(df[\"Time\"], df[\"VolumeInjected\"], color='red')\n",
    "ax2.grid(False) # turn off grid #2\n",
    "ax2.set_ylabel('Volume injected [mL]')\n",
    "ax2.set_ylim(0, 30)\n",
    "ax2.legend(['Volume injected'], loc=\"upper right\")\n",
    "\n",
    "plt.grid(True)\n",
    "\n",
    "#save in png high quality for google slides\n",
    "plt.savefig(\"Volume.png\", format=\"png\", bbox_inches=\"tight\", dpi=1000)\n",
    "\n",
    "plt.show()"
   ]
  },
  {
   "cell_type": "code",
   "execution_count": 17,
   "id": "6530cf7b-bc7f-4bac-88d6-66df88980554",
   "metadata": {},
   "outputs": [
    {
     "data": {
      "image/png": "[encoded data removed]",
      "text/plain": [
       "<Figure size 453.6x280.34 with 2 Axes>"
      ]
     },
     "metadata": {
      "needs_background": "light"
     },
     "output_type": "display_data"
    }
   ],
   "source": [
    "# flow rate vs pressure\n",
    "fig, ax1 = plt.subplots(figsize=set_size(width, fraction=0.9))\n",
    "ax1.plot(df[\"Time\"], df[\"FlowRate\"]) \n",
    "ax1.set_xlabel('Time [s]')\n",
    "ax1.set_xlim(0, 4000)\n",
    "ax1.set_ylabel('Flow rate [mL/min]')\n",
    "ax1.set_ylim(0, 2)\n",
    "ax1.legend(['Flow rate'], loc=\"upper left\")\n",
    "\n",
    "ax2 = ax1.twinx()# plot bar chart on axis #2\n",
    "ax2.plot(df[\"Time\"], df[\"Pressure\"], color='red')\n",
    "ax2.grid(False) # turn off grid #2\n",
    "ax2.set_ylabel('Pressure [MPa]')\n",
    "ax2.set_ylim(0, 30)\n",
    "ax2.legend(['Pressure'], loc=\"upper right\")\n",
    "\n",
    "plt.grid(True)\n",
    "\n",
    "#save in png high quality for google slides\n",
    "plt.savefig(\"Pressure.png\", format=\"png\", bbox_inches=\"tight\", dpi=1000)\n",
    "\n",
    "plt.show()"
   ]
  },
  {
   "cell_type": "markdown",
   "id": "0493ec29-cb90-47d4-bada-1c9ffad5cc17",
   "metadata": {},
   "source": [
    "#### Computation of permeability from first pulse"
   ]
  },
  {
   "cell_type": "code",
   "execution_count": 18,
   "id": "9e86e12e-3bca-4fa3-91be-44a56816ae95",
   "metadata": {},
   "outputs": [
    {
     "name": "stdout",
     "output_type": "stream",
     "text": [
      "intercept:  -439.67614966948116 \n",
      " slope:  67.80442693021052\n"
     ]
    },
    {
     "data": {
      "image/png": "[encoded data removed]",
      "text/plain": [
       "<Figure size 453.6x280.34 with 1 Axes>"
      ]
     },
     "metadata": {
      "needs_background": "light"
     },
     "output_type": "display_data"
    }
   ],
   "source": [
    "# drawdown \n",
    "\n",
    "#data\n",
    "fig1, ax1 = plt.subplots(figsize=set_size(width, fraction=0.9))\n",
    "ax1.scatter(df[\"Time\"][550:760], df[\"Pressure\"][550:760], s=2) \n",
    "\n",
    "#linear regression\n",
    "#careful: apply log to x before computing the polyfit\n",
    "b, a = np.polyfit(np.log(df[\"Time\"][700:760]), df[\"Pressure\"][700:760], deg=1)\n",
    "print(\"intercept: \", a, \"\\n\", \"slope: \", b)\n",
    "x_vec = [df[\"Time\"][660], df[\"Time\"][760]]\n",
    "y_vec = [a+b*np.log(df[\"Time\"][660]), a+b*np.log(df[\"Time\"][760])]\n",
    "ax1.plot(x_vec, y_vec, color=\"r\")\n",
    "ax1.text(700, 7, r\"$\\frac{Q \\mu}{4\\pi k h}$\", fontsize=16)\n",
    "\n",
    "ax1.set_xscale('log')\n",
    "ax1.set_xlabel(r'$\\log{t}$')\n",
    "#ax1.set_xlim(550, 760)\n",
    "ax1.set_ylabel('Pressure [MPa]')\n",
    "ax1.set_ylim(0, 12)\n",
    "ax1.set_title('Pressure as a function of time')\n",
    "\n",
    "plt.grid(True)\n",
    "\n",
    "#save in png high quality for google slides\n",
    "plt.savefig(\"Drawdown.png\", format=\"png\", bbox_inches=\"tight\", dpi=1000)\n",
    "\n",
    "plt.show()"
   ]
  },
  {
   "cell_type": "code",
   "execution_count": 19,
   "id": "5fa218e6-9c21-46b3-9184-fcd57534430c",
   "metadata": {},
   "outputs": [
    {
     "name": "stdout",
     "output_type": "stream",
     "text": [
      "1.7408880433129345e-14\n"
     ]
    }
   ],
   "source": [
    "# compute transmissibility\n",
    "Q = 1/6e+7 # flow in [m^3/s]: /6e+7 to go from mL/min to m³/s\n",
    "mu = 8.90e-4 # dynamic viscosity of water in [Pa*s]\n",
    "Transmissibility_drawdown = (Q*mu)/(4*np.pi*b)\n",
    "print(Transmissibility_drawdown)"
   ]
  },
  {
   "cell_type": "code",
   "execution_count": 20,
   "id": "fd8ce834-5866-4802-bbb4-14bde4b17d25",
   "metadata": {},
   "outputs": [
    {
     "name": "stdout",
     "output_type": "stream",
     "text": [
      "intercept:  1.2756521217564993 \n",
      " slope:  1.191494280871862\n"
     ]
    },
    {
     "data": {
      "image/png": "[encoded data removed]",
      "text/plain": [
       "<Figure size 453.6x280.34 with 1 Axes>"
      ]
     },
     "metadata": {
      "needs_background": "light"
     },
     "output_type": "display_data"
    }
   ],
   "source": [
    "#horner\n",
    "tp = 760 # check visually the time for which the pressure is max\n",
    "fig2, ax2 = plt.subplots(figsize=set_size(width, fraction=0.9))\n",
    "ax2.scatter(df[\"Time\"][760:1050]/(df[\"Time\"][760:1050]-tp), df[\"Pressure\"][760:1050], s=2) \n",
    "\n",
    "#linear regression\n",
    "#careful: apply log to x before computing the polyfit\n",
    "b, a = np.polyfit(np.log(df[\"Time\"][900:1050].iloc[::-1]/(df[\"Time\"][900:1050].iloc[::-1]-tp)), df[\"Pressure\"][900:1050].iloc[::-1], deg=1)\n",
    "#ax2.scatter(df[\"Time\"][900:1050].iloc[::-1]/(df[\"Time\"][900:1050].iloc[::-1]-tp), df[\"Pressure\"][900:1050].iloc[::-1], s=2, c=\"r\") \n",
    "print(\"intercept: \", a, \"\\n\", \"slope: \", b)\n",
    "x_vec = [df[\"Time\"][1050]/(df[\"Time\"][1050]-tp), df[\"Time\"][770]/(df[\"Time\"][770]-tp)]\n",
    "y_vec = [a+b*np.log(df[\"Time\"][1050]/(df[\"Time\"][1050]-tp)), a+b*np.log(df[\"Time\"][770]/(df[\"Time\"][770]-tp))]\n",
    "ax2.plot(x_vec, y_vec, color=\"r\")\n",
    "ax2.text(20, 3.7, r\"$\\frac{Q \\mu}{4\\pi k h}$\", fontsize=15)\n",
    "\n",
    "ax2.set_xscale('log')\n",
    "ax2.set_xlabel(r'$\\log{\\frac{t}{(t-tp)}}$')\n",
    "#ax2.set_xlim(760, 1050)\n",
    "ax2.set_ylabel('Pressure [MPa]')\n",
    "ax2.set_ylim(0, 12)\n",
    "ax2.set_title('Pressure as a function of time')\n",
    "\n",
    "plt.grid(True)\n",
    "\n",
    "#save in png high quality for google slides\n",
    "plt.savefig(\"Horner.png\", format=\"png\", bbox_inches=\"tight\", dpi=1000)\n",
    "\n",
    "plt.show()"
   ]
  },
  {
   "cell_type": "code",
   "execution_count": 21,
   "id": "29630803-b758-4195-826a-2f91ee22908e",
   "metadata": {},
   "outputs": [
    {
     "name": "stdout",
     "output_type": "stream",
     "text": [
      "9.906880630607368e-13\n"
     ]
    }
   ],
   "source": [
    "# compute transmissibility\n",
    "Transmissibility_horner = (Q*mu)/(4*np.pi*b)\n",
    "print(Transmissibility_horner)"
   ]
  },
  {
   "cell_type": "raw",
   "id": "cd7e226c-b385-4adf-934c-dd317f8772f7",
   "metadata": {},
   "source": [
    "TODO: \n",
    "- depuis ces datas prendre la première courbe et déterminer perm (powerpoint Tristan). Si on a un truc linéaire on pourrait par exemple définir une perméabilité moyenne par range de pression (ici pressions faibles entre 0 et tata) ? Vérifier qu'on a une droite en log ou des paliers ou un truc courbe (dérivée=pente locale=permabilité pour le stress maybe)\n",
    "- montrer addition du flow des deux pompes en enlevant les valeurs négatives pour expliquer à Brice comment j'ai obtenu mon flow rate smooth\n",
    "- faire meme démarche sur les datas de Maalek"
   ]
  },
  {
   "cell_type": "markdown",
   "id": "25a8f065-60ed-48f2-b883-f38abe9b5382",
   "metadata": {},
   "source": [
    "## Template for plotting"
   ]
  },
  {
   "cell_type": "code",
   "execution_count": 22,
   "id": "e2fe7936-5875-4d43-831f-a218a2c42ded",
   "metadata": {},
   "outputs": [
    {
     "data": {
      "image/png": "[encoded data removed]",
      "text/plain": [
       "<Figure size 432x288 with 1 Axes>"
      ]
     },
     "metadata": {
      "needs_background": "light"
     },
     "output_type": "display_data"
    }
   ],
   "source": [
    "# this data has been saved \"by hand\" by looking at the stored energy for each simulation for a given velocity\n",
    "v = [0.0001, 0.001, 0.01, 0.1, 1.]\n",
    "E = [52021, 76336, 79617, 80361, 80477]\n",
    "plt.scatter(v, E, marker='s', c='r')\n",
    "plt.plot(v, E)\n",
    "plt.xscale('log')\n",
    "#plt.xticks(fontsize=15)\n",
    "#plt.yticks(fontsize=15)\n",
    "plt.xlabel('Fluid velocity [m/s]') #, fontsize=15)\n",
    "plt.ylabel('Stored energy [MJ/m]')  #, fontsize=15) \n",
    "plt.title('Test')\n",
    "\n",
    "#save in svg (in the lab they use .eps format but it's the same as svg)\n",
    "plt.savefig(\"test.svg\", format=\"svg\", bbox_inches=\"tight\")\n",
    "\n",
    "#save in png high quality for google slides\n",
    "plt.savefig(\"test.png\", format=\"png\", bbox_inches=\"tight\", dpi=1000)\n",
    "\n",
    "#save in tex for report\n",
    "tikzplotlib.clean_figure()\n",
    "tikzplotlib.save('test.tex')\n",
    "\n",
    "#show\n",
    "plt.show()"
   ]
  },
  {
   "cell_type": "code",
   "execution_count": null,
   "id": "69484b68-63d8-4c3e-b4b2-dad3ed2398c4",
   "metadata": {},
   "outputs": [],
   "source": []
  }
 ],
 "metadata": {
  "kernelspec": {
   "display_name": "Python 3 (ipykernel)",
   "language": "python",
   "name": "python3"
  },
  "language_info": {
   "codemirror_mode": {
    "name": "ipython",
    "version": 3
   },
   "file_extension": ".py",
   "mimetype": "text/x-python",
   "name": "python",
   "nbconvert_exporter": "python",
   "pygments_lexer": "ipython3",
   "version": "3.8.13"
  }
 },
 "nbformat": 4,
 "nbformat_minor": 5
}
