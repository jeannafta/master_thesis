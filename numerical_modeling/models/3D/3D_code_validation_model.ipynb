{
 "cells": [
  {
   "cell_type": "markdown",
   "id": "3cb14fc5-9b58-4ac7-a460-0cb2511cecc0",
   "metadata": {
    "tags": []
   },
   "source": [
    "# 3D model to validate the advection-diffusion solver"
   ]
  },
  {
   "cell_type": "markdown",
   "id": "219ad461-4ddc-4003-ba4f-af4e13eb23e8",
   "metadata": {},
   "source": [
    "This script corresponds to the model used in section 3.3.3 (Code validation - Energy balance) of my master's thesis."
   ]
  },
  {
   "cell_type": "code",
   "execution_count": 1,
   "id": "e8dddf16-c2d8-4043-afee-d1cd1621efc5",
   "metadata": {},
   "outputs": [
    {
     "name": "stdout",
     "output_type": "stream",
     "text": [
      "Selected Jupyter core packages...\n",
      "IPython          : 8.8.0\n",
      "ipykernel        : 6.20.2\n",
      "ipywidgets       : 7.7.2\n",
      "jupyter_client   : 7.4.9\n",
      "jupyter_core     : 5.1.4\n",
      "jupyter_server   : 2.1.0\n",
      "jupyterlab       : 3.5.3\n",
      "nbclient         : 0.7.2\n",
      "nbconvert        : 7.2.8\n",
      "nbformat         : 5.7.3\n",
      "notebook         : 6.5.2\n",
      "qtconsole        : 5.4.0\n",
      "traitlets        : 5.8.1\n"
     ]
    }
   ],
   "source": [
    "!jupyter --version"
   ]
  },
  {
   "cell_type": "code",
   "execution_count": 2,
   "id": "8ebcc478-1055-46d0-9f99-271f913d4dc3",
   "metadata": {},
   "outputs": [],
   "source": [
    "import numpy as np\n",
    "import io\n",
    "from mpi4py import MPI\n",
    "import pyvista\n",
    "import ufl\n",
    "from ufl import Measure, FacetNormal\n",
    "import matplotlib.pyplot as plt\n",
    "\n",
    "import dolfinx\n",
    "from dolfinx import fem, plot\n",
    "from dolfinx.io import XDMFFile\n",
    "from dolfinx.fem import FunctionSpace, VectorFunctionSpace, Constant, Function\n",
    "from dolfinx.plot import create_vtk_mesh\n",
    "from dolfinx.io.gmshio import read_from_msh \n",
    "\n",
    "from petsc4py import PETSc\n",
    "from petsc4py.PETSc import ScalarType"
   ]
  },
  {
   "cell_type": "markdown",
   "id": "0aea698d-274e-467f-8ac9-a2df2798ffcb",
   "metadata": {},
   "source": [
    "## Mesh reading"
   ]
  },
  {
   "cell_type": "code",
   "execution_count": 3,
   "id": "e36b0f2f-267e-4bcf-8c13-4cbf694c0abc",
   "metadata": {},
   "outputs": [
    {
     "name": "stdout",
     "output_type": "stream",
     "text": [
      "Info    : Reading '../../Meshes/3D/3D_code_validation_mesh.msh'...\n",
      "Info    : 192 entities\n",
      "Info    : 71784 nodes\n",
      "Info    : 69282 elements\n",
      "Info    : Done reading '../../Meshes/3D/3D_code_validation_mesh.msh'\n"
     ]
    }
   ],
   "source": [
    "mesh, cell_tags, facet_tags = read_from_msh(\"../../meshes/3D/3D_code_validation_mesh.msh\", MPI.COMM_WORLD, 0)"
   ]
  },
  {
   "cell_type": "code",
   "execution_count": 4,
   "id": "e1fff776-5cc7-48ea-ba1d-db8e67559741",
   "metadata": {},
   "outputs": [
    {
     "name": "stdout",
     "output_type": "stream",
     "text": [
      "[103 104 105 106]\n",
      "[1 2]\n"
     ]
    }
   ],
   "source": [
    "print(np.unique(cell_tags.values))\n",
    "print(np.unique(facet_tags.values))"
   ]
  },
  {
   "cell_type": "markdown",
   "id": "43fd2130-f924-4483-802a-c8db971e66d0",
   "metadata": {},
   "source": [
    "Uncomment the following cell to visualize the mesh and the different subdomains."
   ]
  },
  {
   "cell_type": "raw",
   "id": "446502cb-deea-4537-a206-0dbb4c185c12",
   "metadata": {},
   "source": [
    "# visualise the different materials\n",
    "pyvista.start_xvfb()\n",
    "pyvista.set_jupyter_backend(\"panel\")\n",
    "\n",
    "p = pyvista.Plotter(window_size=[800, 800], shape=(1,1))\n",
    "# Filter out ghosted cells\n",
    "num_cells_local = mesh.topology.index_map(mesh.topology.dim).size_local\n",
    "marker = np.zeros(num_cells_local, dtype=np.int32)\n",
    "cells_0 = cell_tags.indices[cell_tags.values == 103]\n",
    "cells_1 = cell_tags.indices[cell_tags.values == 104]\n",
    "cells_2 = cell_tags.indices[cell_tags.values == 105]\n",
    "cells_3 = cell_tags.indices[cell_tags.values == 106]\n",
    "cells_4 = cell_tags.indices[cell_tags.values == 107]\n",
    "cells_0 = cells_0[cells_0<num_cells_local]\n",
    "cells_1 = cells_1[cells_1<num_cells_local]\n",
    "cells_2 = cells_2[cells_2<num_cells_local]\n",
    "cells_3 = cells_3[cells_3<num_cells_local]\n",
    "cells_4 = cells_4[cells_4<num_cells_local]\n",
    "marker[cells_0] = 1\n",
    "marker[cells_1] = 2\n",
    "marker[cells_2] = 3\n",
    "marker[cells_3] = 4\n",
    "marker[cells_4] = 5\n",
    "topology, cell_types, x = create_vtk_mesh(mesh, mesh.topology.dim, np.arange(num_cells_local, dtype=np.int32))\n",
    "grid = pyvista.UnstructuredGrid(topology, cell_types, x)  # UnstructuredGrid StructuredGrid\n",
    "grid.cell_data[\"Marker\"] = marker\n",
    "grid.set_active_scalars(\"Marker\")\n",
    "actor0 = p.add_mesh(grid, show_edges=True)\n",
    "if not pyvista.OFF_SCREEN:\n",
    "    p.show()"
   ]
  },
  {
   "cell_type": "markdown",
   "id": "7a4ed69e-654d-4e13-ad3c-3b78ef61ef05",
   "metadata": {},
   "source": [
    "## Output file"
   ]
  },
  {
   "cell_type": "code",
   "execution_count": 6,
   "id": "d251ffe6-e5dd-4eb6-b80b-1bf6f6f8d721",
   "metadata": {},
   "outputs": [],
   "source": [
    "xdmf = XDMFFile(mesh.comm, \"solution_3D_code_validation_model.xdmf\", \"w\")\n",
    "xdmf.write_mesh(mesh)"
   ]
  },
  {
   "cell_type": "markdown",
   "id": "9ceea7ad-1d49-4587-a2a6-e8c749922fb6",
   "metadata": {},
   "source": [
    "## Temporal parameters"
   ]
  },
  {
   "cell_type": "code",
   "execution_count": 7,
   "id": "1459a546-4080-45e9-b559-11d5d9cd80ae",
   "metadata": {},
   "outputs": [],
   "source": [
    "t = 0              # start time\n",
    "T = 100*8*3600     # final time (2000*8*3600 for conduction dominated, and 100*8*3600 for advection dominated)\n",
    "num_steps = 200    # number of steps\n",
    "dt = T / num_steps # time step size\n",
    "\n",
    "Text = 20 # initial temperature in the system\n",
    "Tinj = 70 # temperature of injected water"
   ]
  },
  {
   "cell_type": "markdown",
   "id": "8901c4cd-b54b-4a8a-b678-8f42942bf2fa",
   "metadata": {},
   "source": [
    "## Finite element function space for temperature field"
   ]
  },
  {
   "cell_type": "code",
   "execution_count": 8,
   "id": "08d18ec3-89f0-4f03-b397-423f511ebc20",
   "metadata": {},
   "outputs": [],
   "source": [
    "V = FunctionSpace(mesh, (\"CG\", 1))  # Lagrange linear elements (degree 1)"
   ]
  },
  {
   "cell_type": "markdown",
   "id": "c2e1aefd-d66f-4b98-9cc0-ecab7ffc9e73",
   "metadata": {},
   "source": [
    "## Initial conditions"
   ]
  },
  {
   "cell_type": "code",
   "execution_count": 9,
   "id": "23aae9ce-053c-4e41-be75-0f86f16dd362",
   "metadata": {},
   "outputs": [],
   "source": [
    "T_n = Function(V)\n",
    "T_n.name = \"T_n\"\n",
    "T_n.x.array[:] = np.full(len(T_n.x.array), Text)"
   ]
  },
  {
   "cell_type": "markdown",
   "id": "4c40c9aa-f77b-4200-a697-8635d642ffd3",
   "metadata": {},
   "source": [
    "Store the initial condition in another variable as T_n undergoes changes at each iteration, ensuring that the initial temperature is preserved for calculating different energies at each step."
   ]
  },
  {
   "cell_type": "code",
   "execution_count": 10,
   "id": "a05f50a9-fc48-4c97-a465-195441cb7343",
   "metadata": {},
   "outputs": [],
   "source": [
    "T_i = T_n.copy()\n",
    "T_i.name = \"T_i\""
   ]
  },
  {
   "cell_type": "markdown",
   "id": "690e6a68-704a-4da1-a98e-1aa1ddeb8a84",
   "metadata": {},
   "source": [
    "## Time-dependent output"
   ]
  },
  {
   "cell_type": "code",
   "execution_count": 11,
   "id": "330e08f0-c5a9-4d59-ae51-1eee32505f6e",
   "metadata": {},
   "outputs": [],
   "source": [
    "T_h = T_n.copy()\n",
    "T_h.name = \"T_h\"\n",
    "xdmf.write_function(T_h, t)"
   ]
  },
  {
   "cell_type": "markdown",
   "id": "aeeae29a-4de6-480c-b97a-9bf608622709",
   "metadata": {},
   "source": [
    "## Trial and test functions"
   ]
  },
  {
   "cell_type": "code",
   "execution_count": 12,
   "id": "7374f002-94f4-40cd-ac61-59a57fba6081",
   "metadata": {},
   "outputs": [],
   "source": [
    "T, r = ufl.TrialFunction(V), ufl.TestFunction(V)"
   ]
  },
  {
   "cell_type": "markdown",
   "id": "800b0076-213d-4d14-906a-df9e6972d879",
   "metadata": {},
   "source": [
    "## Material properties"
   ]
  },
  {
   "cell_type": "code",
   "execution_count": 13,
   "id": "5b360fd3-fb7d-41dc-adc7-7d5e4ee5f219",
   "metadata": {},
   "outputs": [
    {
     "name": "stdout",
     "output_type": "stream",
     "text": [
      "Thermal diffusivity of gabbro:1.5579710144927536e-06\n",
      "Thermal diffusivity of water:1.4342405504413766e-07\n",
      "Thermal diffusivity of metal:1.3392857142857142e-05\n",
      "Thermal diffusivity of epoxy resin:1.1466011466011467e-07\n"
     ]
    }
   ],
   "source": [
    "# for gabbro\n",
    "rho_g = 3000                 # density of gabbro in kg/m³\n",
    "c_g = 460                    # specific heat of gabbro in J/(kg*K)\n",
    "cond_g = 2.15                # thermal conductivity of gabbro in W/(m·K)\n",
    "print(\"Thermal diffusivity of gabbro:\" + str(cond_g/(rho_g*c_g)))\n",
    "\n",
    "# for water\n",
    "rho_w = 997                  # density of water in kg/m³\n",
    "c_w = 4182                   # specific heat of water in J/(kg*K)\n",
    "cond_w = 0.598               # thermal conductivity of water in W/(m·K)\n",
    "print(\"Thermal diffusivity of water:\" + str(cond_w/(rho_w*c_w)))\n",
    "\n",
    "# for metal (assume steel)\n",
    "rho_m = 8000                 # density of metal in kg/m³\n",
    "c_m = 420                    # specific heat of metal in J/(kg*K)\n",
    "cond_m = 45                  # thermal conductivity of metal in W/(m·K)\n",
    "print(\"Thermal diffusivity of metal:\" + str(cond_m/(rho_m*c_m)))\n",
    "\n",
    "# for epoxy resin\n",
    "rho_e = 1100                 # density of epoxy resin in kg/m³\n",
    "c_e = 1110                   # specific heat of epoxy resin in J/(kg*K)\n",
    "cond_e = 0.14                # thermal conductivity of epoxy resin in W/(m·K)\n",
    "print(\"Thermal diffusivity of epoxy resin:\" + str(cond_e/(rho_e*c_e)))\n",
    "\n",
    "# give those different properties to the domain\n",
    "M = FunctionSpace(mesh, (\"DG\", 0))\n",
    "metal_mask = (cell_tags.values == 103)\n",
    "epoxy_mask = (cell_tags.values == 104)\n",
    "rock_mask = (cell_tags.values == 105)\n",
    "fluid_mask = (cell_tags.values == 106)|(cell_tags.values == 107)\n",
    "\n",
    "rho = Function(M)\n",
    "rho.x.array[metal_mask] = np.full(metal_mask.sum(), rho_m)\n",
    "rho.x.array[epoxy_mask] = np.full(epoxy_mask.sum(), rho_e)\n",
    "rho.x.array[rock_mask] = np.full(rock_mask.sum(), rho_g)\n",
    "rho.x.array[fluid_mask] = np.full(fluid_mask.sum(), rho_w)\n",
    "\n",
    "c = Function(M)\n",
    "c.x.array[metal_mask] = np.full(metal_mask.sum(), c_m)\n",
    "c.x.array[epoxy_mask] = np.full(epoxy_mask.sum(), c_e)\n",
    "c.x.array[rock_mask] = np.full(rock_mask.sum(), c_g)\n",
    "c.x.array[fluid_mask] = np.full(fluid_mask.sum(), c_w)\n",
    "\n",
    "cond = Function(M)\n",
    "cond.x.array[metal_mask] = np.full(metal_mask.sum(), cond_m)\n",
    "cond.x.array[epoxy_mask] = np.full(epoxy_mask.sum(), cond_e)\n",
    "cond.x.array[rock_mask] = np.full(rock_mask.sum(), cond_g)\n",
    "cond.x.array[fluid_mask] = np.full(fluid_mask.sum(), cond_w)"
   ]
  },
  {
   "cell_type": "markdown",
   "id": "76b8480d-aa37-4791-936d-8d4ca7ffdc7b",
   "metadata": {},
   "source": [
    "## Fluid flow"
   ]
  },
  {
   "cell_type": "code",
   "execution_count": 14,
   "id": "b4009d52-b674-4765-a059-ca2405071fe8",
   "metadata": {},
   "outputs": [],
   "source": [
    "# 0.25mL/min flow rate is injected by the pump\n",
    "Qinj = 0.25e-6/60*1 # /100 to test conduction dominated regime \n",
    "Dpipe = 0.001       # inner diameter of the pipe is 1mm\n",
    "\n",
    "# Finite element function space for fluid velocity field\n",
    "Q = VectorFunctionSpace(mesh, (\"DG\", 0))\n",
    "q = Function(Q)\n",
    "num_cells = mesh.topology.index_map(mesh.topology.dim).size_local\n",
    "block_size = Q.dofmap.index_map_bs  # number of dof per dofmap\n",
    "# define constant flux in the well and 0 flux in the solid materials (rock, tubing, epoxy)\n",
    "for i in range(num_cells):\n",
    "    # in the solid materials the flow is null\n",
    "    if (cell_tags.values[i] == 103) | (cell_tags.values[i] == 104) | (cell_tags.values[i] == 105) :\n",
    "        q.x.array[[i*block_size, i*block_size+1, i*block_size+2]] = [0., 0., 0.]\n",
    "    # in the well the flow rate is constant and is equal to the total flow rate injected by the pump divided by the cross-section area of the pipe (1mm diameter)\n",
    "    elif cell_tags.values[i] == 106:\n",
    "        q.x.array[[i*block_size, i*block_size+1, i*block_size+2]] = [0., 0., -4*Qinj/(np.pi*Dpipe**2)]"
   ]
  },
  {
   "cell_type": "code",
   "execution_count": 15,
   "id": "af7c28a6-466b-40f7-a8d2-e5c311119e70",
   "metadata": {},
   "outputs": [
    {
     "data": {
      "text/plain": [
       "0.005305164769729845"
      ]
     },
     "execution_count": 15,
     "metadata": {},
     "output_type": "execute_result"
    }
   ],
   "source": [
    "4*Qinj/(np.pi*Dpipe**2)"
   ]
  },
  {
   "cell_type": "markdown",
   "id": "bae3a875-b49b-497d-98b3-d051e62eaf91",
   "metadata": {},
   "source": [
    "Uncomment the following cell to visualize the fluid velocity field inside the domain."
   ]
  },
  {
   "cell_type": "raw",
   "id": "9ae5bc83-a283-4b57-a059-21a850161bb4",
   "metadata": {},
   "source": [
    "# plot the flow field\n",
    "from dolfinx.mesh import compute_midpoints\n",
    "plotter = pyvista.Plotter()\n",
    "\n",
    "# We include ghosts cells as we access all degrees of freedom (including ghosts) on each process\n",
    "top_imap = mesh.topology.index_map(mesh.topology.dim)\n",
    "num_cells = top_imap.size_local + top_imap.num_ghosts\n",
    "midpoints = compute_midpoints(mesh, mesh.topology.dim, range(num_cells))\n",
    "\n",
    "num_dofs = Q.dofmap.index_map.size_local +  Q.dofmap.index_map.num_ghosts\n",
    "assert(num_cells == num_dofs)\n",
    "values = np.zeros((num_dofs, 3), dtype=np.float64)\n",
    "values[:, :mesh.geometry.dim] = q.x.array.real.reshape(num_dofs, Q.dofmap.index_map_bs)\n",
    "cloud = pyvista.PolyData(midpoints)\n",
    "cloud[\"q\"] = values\n",
    "glyphs = cloud.glyph(\"q\", factor=10)\n",
    "actor = plotter.add_mesh(grid, style=\"wireframe\", color=\"k\")\n",
    "actor2 = plotter.add_mesh(glyphs)\n",
    "\n",
    "if not pyvista.OFF_SCREEN:\n",
    "    plotter.show()"
   ]
  },
  {
   "cell_type": "markdown",
   "id": "a1dccd28-4181-4480-81d1-03df53d3cdb7",
   "metadata": {},
   "source": [
    "## Boundary conditions"
   ]
  },
  {
   "cell_type": "code",
   "execution_count": 17,
   "id": "813a3a39-b9e5-4488-b48d-7cdaae70baca",
   "metadata": {
    "tags": []
   },
   "outputs": [],
   "source": [
    "# DIRICHLET: T=Ti on side 1\n",
    "boundary_dofs_inj = fem.locate_dofs_topological(V, mesh.topology.dim-1, facet_tags.indices[facet_tags.values == 1])\n",
    "bc_inj = fem.dirichletbc(ScalarType(Tinj), boundary_dofs_inj, V)\n",
    "\n",
    "bc_tot = [bc_inj]"
   ]
  },
  {
   "cell_type": "markdown",
   "id": "b0c30af5-db5f-48d9-bc03-6c881d5531f7",
   "metadata": {},
   "source": [
    "## Variational problem"
   ]
  },
  {
   "cell_type": "code",
   "execution_count": 18,
   "id": "534557f8-b13e-40a2-be7a-0c4018ed939d",
   "metadata": {},
   "outputs": [],
   "source": [
    "F = rho * c * T * r * ufl.dx + dt * cond * ufl.dot(ufl.grad(T), ufl.grad(r)) * ufl.dx + dt * rho_w * c_w * ufl.dot(q, ufl.grad(T)) * r * ufl.dx \\\n",
    "    - (rho * c * T_n * r * ufl.dx)"
   ]
  },
  {
   "cell_type": "code",
   "execution_count": 19,
   "id": "4a74f81c-4661-41b3-8cc2-04bc224674a8",
   "metadata": {
    "tags": []
   },
   "outputs": [],
   "source": [
    "a = ufl.lhs(F)\n",
    "L = ufl.rhs(F)"
   ]
  },
  {
   "cell_type": "markdown",
   "id": "f56cdcbb-3c4b-408a-afbc-f246d6e8bdda",
   "metadata": {},
   "source": [
    "## Linear algebra structures for the time dependent problem"
   ]
  },
  {
   "cell_type": "code",
   "execution_count": 20,
   "id": "44013c98-9568-477c-8441-6b5970d43348",
   "metadata": {},
   "outputs": [],
   "source": [
    "bilinear_form = fem.form(a)\n",
    "linear_form = fem.form(L)"
   ]
  },
  {
   "cell_type": "code",
   "execution_count": 21,
   "id": "66c4ef2a-0e14-4db4-8d77-3dc4ea86f946",
   "metadata": {},
   "outputs": [
    {
     "name": "stdout",
     "output_type": "stream",
     "text": [
      "CPU times: user 345 ms, sys: 40.4 ms, total: 385 ms\n",
      "Wall time: 346 ms\n"
     ]
    }
   ],
   "source": [
    "%%time\n",
    "# bilinear_form (a) isn't time dependant so we can assemble it once\n",
    "A = fem.petsc.assemble_matrix(bilinear_form, bcs=bc_tot)\n",
    "A.assemble()\n",
    "b = fem.petsc.create_vector(linear_form)"
   ]
  },
  {
   "cell_type": "markdown",
   "id": "d6ebbdac-e8c3-4571-8a49-849098a54636",
   "metadata": {},
   "source": [
    "## Custom integration measures"
   ]
  },
  {
   "cell_type": "code",
   "execution_count": 22,
   "id": "38c3a165-3d26-4e19-b685-6cdcdd0a08a0",
   "metadata": {},
   "outputs": [],
   "source": [
    "# integrate over subdomains\n",
    "dx = Measure(\"dx\", domain=mesh, subdomain_data=cell_tags)\n",
    "# integrate over boundaries\n",
    "ds = Measure(\"ds\", domain=mesh, subdomain_data=facet_tags)\n",
    "n = FacetNormal(mesh)"
   ]
  },
  {
   "cell_type": "markdown",
   "id": "54f5fb3f-384f-483c-8312-fcfc8ceed4f0",
   "metadata": {},
   "source": [
    "## Linear solver"
   ]
  },
  {
   "cell_type": "code",
   "execution_count": 23,
   "id": "e99ea2f0-fdb9-4b4a-9d97-2cc8a9044631",
   "metadata": {},
   "outputs": [
    {
     "name": "stdout",
     "output_type": "stream",
     "text": [
      "CPU times: user 91 µs, sys: 7 µs, total: 98 µs\n",
      "Wall time: 103 µs\n"
     ]
    }
   ],
   "source": [
    "%%time\n",
    "solver = PETSc.KSP().create(mesh.comm)\n",
    "solver.setOperators(A)\n",
    "solver.setType(PETSc.KSP.Type.PREONLY)\n",
    "solver.getPC().setType(PETSc.PC.Type.LU)"
   ]
  },
  {
   "cell_type": "code",
   "execution_count": 24,
   "id": "bbfff927-eeff-4bed-aebe-87c85398075a",
   "metadata": {},
   "outputs": [
    {
     "name": "stdout",
     "output_type": "stream",
     "text": [
      "0\n",
      "10\n",
      "20\n",
      "30\n",
      "40\n",
      "50\n",
      "60\n",
      "70\n",
      "80\n",
      "90\n",
      "100\n",
      "110\n",
      "120\n",
      "130\n",
      "140\n",
      "150\n",
      "160\n",
      "170\n",
      "180\n",
      "190\n",
      "CPU times: user 3min 15s, sys: 3.78 s, total: 3min 19s\n",
      "Wall time: 3min 18s\n"
     ]
    }
   ],
   "source": [
    "%%time\n",
    "time = [0]\n",
    "E_stored = [0]  # at the initial state no energy is stored\n",
    "E_input_conduction = [0]\n",
    "E_input_advection = [0]\n",
    "E_output_advection = [0]\n",
    "for i in range(num_steps):\n",
    "    t += dt\n",
    "\n",
    "    # Update the right hand side reusing the initial vector\n",
    "    with b.localForm() as loc_b:\n",
    "        loc_b.set(0)\n",
    "    fem.petsc.assemble_vector(b, linear_form)\n",
    "    \n",
    "    # Apply Dirichlet boundary condition to the vector\n",
    "    fem.petsc.apply_lifting(b, [bilinear_form], [bc_tot])\n",
    "    b.ghostUpdate(addv=PETSc.InsertMode.ADD_VALUES, mode=PETSc.ScatterMode.REVERSE)\n",
    "    fem.petsc.set_bc(b, bc_tot)\n",
    "\n",
    "    # Solve linear problem\n",
    "    solver.solve(b, T_h.vector)\n",
    "    T_h.x.scatter_forward()\n",
    "\n",
    "    # Update solution at previous time step (u_n)\n",
    "    T_n.x.array[:] = T_h.x.array\n",
    "    \n",
    "    # Write solution to file\n",
    "    xdmf.write_function(T_h, t)\n",
    "    \n",
    "    # Compute stored energy\n",
    "    I1 = fem.form(rho * c * (T_h-T_i) * dx((103, 104, 105, 106, 107)))\n",
    "    E_stored.append(fem.assemble_scalar(I1))\n",
    "    \n",
    "    # Compute input energy by conduction   \n",
    "    I2 = fem.form(dt * cond * ufl.dot(ufl.grad(T_h), n) * ds(1))\n",
    "    #I2 = fem.form(dt * cond * ufl.dot(ufl.grad(T_h), ufl.grad(T_h))**(1/2) * ds(1))\n",
    "    E_input_conduction.append(fem.assemble_scalar(I2))\n",
    "    \n",
    "    # Compute input energy by advection\n",
    "    I3 = fem.form(dt * rho * c * ufl.dot(q, -n) * (T_h-T_i) * ds(1))\n",
    "    E_input_advection.append(fem.assemble_scalar(I3))\n",
    "    \n",
    "    # Compute output energy by advection\n",
    "    I4 = fem.form(dt * rho * c * ufl.dot(q, n) * (T_h-T_i) * ds(2))\n",
    "    E_output_advection.append(fem.assemble_scalar(I4))\n",
    "    \n",
    "    time.append(t)\n",
    "      \n",
    "    if i % 10 == 0:\n",
    "        print(i)\n",
    "        \n",
    "xdmf.close()"
   ]
  },
  {
   "cell_type": "markdown",
   "id": "b11ed0c4-b8bc-4981-a527-8d8eddd05939",
   "metadata": {
    "tags": []
   },
   "source": [
    "## Post-processing of results (energy balance)"
   ]
  },
  {
   "cell_type": "raw",
   "id": "54bf2042-e3af-4314-997e-ee44adf7d1f8",
   "metadata": {},
   "source": [
    "# first way to compute input energy (analytical way)\n",
    "cumulative_volume = Qinj*dt*np.array(range(0, num_steps+1, 1))\n",
    "E_input_advection1 = cumulative_volume*rho_w*c_w*(Tinj-Text)"
   ]
  },
  {
   "cell_type": "raw",
   "id": "59639109-7980-4ba2-af50-42cd038d7400",
   "metadata": {},
   "source": [
    "# second way to compute input energy (numerical way)\n",
    "I2 = fem.form(ufl.dot(-Qheat, n)*ds(subdomain_id=1))\n",
    "E2 = fem.assemble_scalar(I2)\n",
    "E_input_advection2 = E2*dt*np.array(range(0, num_steps+1, 1))"
   ]
  },
  {
   "cell_type": "code",
   "execution_count": 25,
   "id": "bb237648-7ba3-4b9e-8ed2-edd15b11e28e",
   "metadata": {},
   "outputs": [
    {
     "data": {
      "image/png": "[encoded data removed]",
      "text/plain": [
       "<Figure size 640x480 with 1 Axes>"
      ]
     },
     "metadata": {},
     "output_type": "display_data"
    }
   ],
   "source": [
    "# Plot input and output energies to the system versus stored energy\n",
    "plt.plot(np.array(E_stored), label = \"total stored energy\")\n",
    "plt.plot(np.array(E_input_conduction).cumsum(), label = \"cumulative input energy conduction\")\n",
    "plt.plot(np.array(E_input_advection).cumsum(), label = \"cumulative input energy advection\")\n",
    "plt.plot(np.array(E_output_advection).cumsum(), label = \"cumulative output energy advection\")\n",
    "plt.legend(loc=\"upper left\")\n",
    "plt.xlabel('Time step')\n",
    "plt.ylabel('Energy [J/m]')\n",
    "plt.show()"
   ]
  },
  {
   "cell_type": "code",
   "execution_count": 26,
   "id": "a184a79f-5652-47ce-86b6-c668bf5d4e49",
   "metadata": {},
   "outputs": [
    {
     "data": {
      "image/png": "[encoded data removed]",
      "text/plain": [
       "<Figure size 640x480 with 1 Axes>"
      ]
     },
     "metadata": {},
     "output_type": "display_data"
    }
   ],
   "source": [
    "# Plot input-output energies to comparte with stored energy\n",
    "plt.plot(np.array(E_stored), label = \"stored energy\")\n",
    "plt.plot(np.array(E_input_conduction).cumsum()+np.array(E_input_advection).cumsum()-np.array(E_output_advection).cumsum(), label = \"input-output energy\")\n",
    "plt.legend(loc=\"upper left\")\n",
    "plt.xlabel('Time step')\n",
    "plt.ylabel('Energy [J/m]')\n",
    "plt.show()"
   ]
  },
  {
   "cell_type": "code",
   "execution_count": 27,
   "id": "a692d534-8065-4deb-8d4a-700a7b87617d",
   "metadata": {},
   "outputs": [],
   "source": [
    "# save data for plotting elsewhere\n",
    "with open('energy_adv_dominated.npy', 'wb') as f:\n",
    "#with open('energy_cond_dominated.npy', 'wb') as f:\n",
    "    np.save(f, np.array(time))\n",
    "    np.save(f, np.array(E_stored))\n",
    "    np.save(f, np.array(E_input_conduction).cumsum())\n",
    "    np.save(f, np.array(E_input_advection).cumsum())\n",
    "    np.save(f, np.array(E_output_advection).cumsum())"
   ]
  },
  {
   "cell_type": "code",
   "execution_count": 28,
   "id": "e4306f7b-8ee1-4425-91a8-f62ebfa3688e",
   "metadata": {},
   "outputs": [
    {
     "data": {
      "text/plain": [
       "7.814167995011862e-07"
      ]
     },
     "execution_count": 28,
     "metadata": {},
     "output_type": "execute_result"
    }
   ],
   "source": [
    "f = fem.Constant(mesh, PETSc.ScalarType(1))\n",
    "I = fem.form(f * ds(1))\n",
    "fem.assemble_scalar(I)"
   ]
  },
  {
   "cell_type": "code",
   "execution_count": null,
   "id": "8520ca53-eddc-49df-8bbe-a339dcd0d45b",
   "metadata": {},
   "outputs": [],
   "source": []
  }
 ],
 "metadata": {
  "kernelspec": {
   "display_name": "Python 3 (ipykernel)",
   "language": "python",
   "name": "python3"
  },
  "language_info": {
   "codemirror_mode": {
    "name": "ipython",
    "version": 3
   },
   "file_extension": ".py",
   "mimetype": "text/x-python",
   "name": "python",
   "nbconvert_exporter": "python",
   "pygments_lexer": "ipython3",
   "version": "3.10.6"
  }
 },
 "nbformat": 4,
 "nbformat_minor": 5
}
