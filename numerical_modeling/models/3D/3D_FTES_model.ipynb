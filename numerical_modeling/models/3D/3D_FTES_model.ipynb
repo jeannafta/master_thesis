{
 "cells": [
  {
   "cell_type": "markdown",
   "id": "3cb14fc5-9b58-4ac7-a460-0cb2511cecc0",
   "metadata": {
    "tags": []
   },
   "source": [
    "# 3D model for the full FTES experiment"
   ]
  },
  {
   "cell_type": "markdown",
   "id": "bc72bc01-d8cb-4a8b-8a63-fc0730ac5feb",
   "metadata": {},
   "source": [
    "This script corresponds to the model used in section 3.3.6 (Modelling of FTES experiment) of my master's thesis report."
   ]
  },
  {
   "cell_type": "code",
   "execution_count": 1,
   "id": "e8dddf16-c2d8-4043-afee-d1cd1621efc5",
   "metadata": {},
   "outputs": [
    {
     "name": "stdout",
     "output_type": "stream",
     "text": [
      "Selected Jupyter core packages...\n",
      "IPython          : 8.8.0\n",
      "ipykernel        : 6.20.2\n",
      "ipywidgets       : 7.7.2\n",
      "jupyter_client   : 7.4.9\n",
      "jupyter_core     : 5.1.4\n",
      "jupyter_server   : 2.1.0\n",
      "jupyterlab       : 3.5.3\n",
      "nbclient         : 0.7.2\n",
      "nbconvert        : 7.2.8\n",
      "nbformat         : 5.7.3\n",
      "notebook         : 6.5.2\n",
      "qtconsole        : 5.4.0\n",
      "traitlets        : 5.8.1\n"
     ]
    }
   ],
   "source": [
    "!jupyter --version"
   ]
  },
  {
   "cell_type": "code",
   "execution_count": 2,
   "id": "8ebcc478-1055-46d0-9f99-271f913d4dc3",
   "metadata": {},
   "outputs": [],
   "source": [
    "import numpy as np\n",
    "import io\n",
    "from mpi4py import MPI\n",
    "import pyvista\n",
    "import ufl\n",
    "from ufl import Measure, FacetNormal\n",
    "import matplotlib.pyplot as plt\n",
    "\n",
    "import dolfinx\n",
    "from dolfinx import fem, plot\n",
    "from dolfinx.io import XDMFFile\n",
    "from dolfinx.fem import FunctionSpace, VectorFunctionSpace, Constant, Function\n",
    "from dolfinx.plot import create_vtk_mesh\n",
    "from dolfinx.io.gmshio import read_from_msh\n",
    "\n",
    "from petsc4py import PETSc\n",
    "from petsc4py.PETSc import ScalarType"
   ]
  },
  {
   "cell_type": "markdown",
   "id": "0aea698d-274e-467f-8ac9-a2df2798ffcb",
   "metadata": {},
   "source": [
    "## Mesh reading"
   ]
  },
  {
   "cell_type": "code",
   "execution_count": 3,
   "id": "e36b0f2f-267e-4bcf-8c13-4cbf694c0abc",
   "metadata": {},
   "outputs": [
    {
     "name": "stdout",
     "output_type": "stream",
     "text": [
      "Info    : Reading '../../meshes/3D/3D_FTES_mesh.msh'...\n",
      "Info    : 292 entities\n",
      "Info    : 161517 nodes\n",
      "Info    : 153691 elements                                               \n",
      "Info    : Done reading '../../meshes/3D/3D_FTES_mesh.msh'                  \n"
     ]
    }
   ],
   "source": [
    "mesh, cell_tags, facet_tags = read_from_msh(\"../../meshes/3D/3D_FTES_mesh.msh\", MPI.COMM_WORLD, 0)"
   ]
  },
  {
   "cell_type": "code",
   "execution_count": 4,
   "id": "e1fff776-5cc7-48ea-ba1d-db8e67559741",
   "metadata": {},
   "outputs": [
    {
     "name": "stdout",
     "output_type": "stream",
     "text": [
      "[103 104 105 106 107]\n",
      "[1 2]\n"
     ]
    }
   ],
   "source": [
    "print(np.unique(cell_tags.values))\n",
    "print(np.unique(facet_tags.values))"
   ]
  },
  {
   "cell_type": "markdown",
   "id": "9432bd6d-ef1a-4ed5-8e8b-996851401a48",
   "metadata": {},
   "source": [
    "## Experiment Setup Parameters"
   ]
  },
  {
   "cell_type": "code",
   "execution_count": 5,
   "id": "b260bceb-c598-42a1-bf9f-b32228971b62",
   "metadata": {},
   "outputs": [],
   "source": [
    "# Geometrical parameters\n",
    "Dpipe = 0.001          # inner diameter of the pipe is 1mm\n",
    "# Experimental parameter\n",
    "Qinj = 0.25e-6/60      # flow rate injected by the pump"
   ]
  },
  {
   "cell_type": "markdown",
   "id": "220a4156-aa54-41b9-ba27-806e07509158",
   "metadata": {},
   "source": [
    "# PART 1: fluid flow"
   ]
  },
  {
   "cell_type": "markdown",
   "id": "42c44274-886a-485a-94bc-0455c6cb5145",
   "metadata": {},
   "source": [
    "## Submesh creation"
   ]
  },
  {
   "cell_type": "code",
   "execution_count": 6,
   "id": "5663eed4-e8b3-4ef2-ba5a-e9f83a4041d1",
   "metadata": {},
   "outputs": [
    {
     "name": "stdout",
     "output_type": "stream",
     "text": [
      "DOLFINx version: 0.6.0 based on GIT commit: 24f86a9ce57df6978070dbee22b3eae8bb77235f of https://github.com/FEniCS/dolfinx/\n"
     ]
    }
   ],
   "source": [
    "print(f\"DOLFINx version: {dolfinx.__version__} based on GIT commit: {dolfinx.git_commit_hash} of https://github.com/FEniCS/dolfinx/\")"
   ]
  },
  {
   "cell_type": "code",
   "execution_count": 7,
   "id": "ea1befb6-2012-462a-82ed-7d61f586398c",
   "metadata": {},
   "outputs": [],
   "source": [
    "# create submesh to solve flow problem\n",
    "submesh, entity_map, _, _ = dolfinx.mesh.create_submesh(mesh, mesh.topology.dim, cell_tags.indices[(cell_tags.values==106)|(cell_tags.values==107)])"
   ]
  },
  {
   "cell_type": "code",
   "execution_count": 8,
   "id": "f40403ff-3e23-4653-beee-884fd3c4acd1",
   "metadata": {},
   "outputs": [
    {
     "name": "stdout",
     "output_type": "stream",
     "text": [
      "[0 1 2]\n"
     ]
    }
   ],
   "source": [
    "# method to transfer facet tags from parent mesh to submesh\n",
    "# source: https://fenicsproject.discourse.group/t/problem-transferring-facet-tags-to-submesh/11213\n",
    "# CAREFUL: method works only for DOLFINx version v0.6.0\n",
    "tdim = mesh.topology.dim\n",
    "fdim = tdim - 1\n",
    "c_to_f = mesh.topology.connectivity(tdim, fdim)\n",
    "f_map = mesh.topology.index_map(fdim)\n",
    "all_facets = f_map.size_local + f_map.num_ghosts\n",
    "all_values = np.zeros(all_facets, dtype=np.int32)\n",
    "all_values[facet_tags.indices] = facet_tags.values\n",
    "print(np.unique(all_values))\n",
    "\n",
    "submesh.topology.create_entities(fdim)\n",
    "subf_map = submesh.topology.index_map(fdim)\n",
    "submesh.topology.create_connectivity(tdim, fdim)\n",
    "c_to_f_sub = submesh.topology.connectivity(tdim, fdim)\n",
    "num_sub_facets = subf_map.size_local + subf_map.size_global\n",
    "sub_values = np.empty(num_sub_facets, dtype=np.int32)\n",
    "for i, entity in enumerate(entity_map):\n",
    "    parent_facets = c_to_f.links(entity)\n",
    "    child_facets = c_to_f_sub.links(i)\n",
    "    for child, parent in zip(child_facets, parent_facets):\n",
    "        sub_values[child] = all_values[parent]\n",
    "sub_meshtag = dolfinx.mesh.meshtags(submesh, submesh.topology.dim-1, np.arange(\n",
    "    num_sub_facets, dtype=np.int32), sub_values)"
   ]
  },
  {
   "cell_type": "markdown",
   "id": "ac1f4d84-d64a-45e0-a8f5-4d2df1e91c31",
   "metadata": {},
   "source": [
    "## Output file for fluid flow problem"
   ]
  },
  {
   "cell_type": "code",
   "execution_count": 9,
   "id": "123b766b-ebd5-4892-97ff-4bbe53a6ffbc",
   "metadata": {},
   "outputs": [],
   "source": [
    "xdmf = XDMFFile(submesh.comm, \"solution_3D_FTES_fluidPressure_model.xdmf\", \"w\")\n",
    "xdmf.write_mesh(submesh)"
   ]
  },
  {
   "cell_type": "markdown",
   "id": "a9380d1d-4f5e-4c50-9ab8-3b412ac05a16",
   "metadata": {},
   "source": [
    "## Finite element function space for pressure field"
   ]
  },
  {
   "cell_type": "code",
   "execution_count": 10,
   "id": "30800ffd-0252-4cc0-9a90-8a635d3c5817",
   "metadata": {},
   "outputs": [],
   "source": [
    "U = FunctionSpace(submesh, (\"CG\", 2))  # Lagrange quadratic elements (degree 2)"
   ]
  },
  {
   "cell_type": "markdown",
   "id": "e376082f-976d-4ead-b321-8f08da22a6a4",
   "metadata": {},
   "source": [
    "## Trial and test functions"
   ]
  },
  {
   "cell_type": "code",
   "execution_count": 11,
   "id": "69dedb1e-a3ee-4847-845e-69f11b1b7420",
   "metadata": {},
   "outputs": [],
   "source": [
    "p, u = ufl.TrialFunction(U), ufl.TestFunction(U)"
   ]
  },
  {
   "cell_type": "markdown",
   "id": "8a4c0ab8-d720-4e3e-a7d2-0f4fb654d89c",
   "metadata": {},
   "source": [
    "## Boundary conditions"
   ]
  },
  {
   "cell_type": "code",
   "execution_count": 12,
   "id": "661985fd-c642-4e64-9ba2-5ad81f8a3fcf",
   "metadata": {},
   "outputs": [],
   "source": [
    "# DIRICHLET: p=pext on side 2\n",
    "pext = 0\n",
    "boundary_dofs = fem.locate_dofs_topological(U, submesh.topology.dim-1, sub_meshtag.indices[sub_meshtag.values == 2])\n",
    "bc_inj = fem.dirichletbc(ScalarType(pext), boundary_dofs, U)\n",
    "\n",
    "bc_tot = [bc_inj]\n",
    "\n",
    "# NEUMANN: q=Qinj/A on side 1\n",
    "qin = -4*Qinj/(np.pi*Dpipe**2)"
   ]
  },
  {
   "cell_type": "markdown",
   "id": "153cca43-0cf6-4748-9d76-a749cfdd79f9",
   "metadata": {},
   "source": [
    "## Custom integration measures"
   ]
  },
  {
   "cell_type": "code",
   "execution_count": 13,
   "id": "b8aa7cb6-24c3-4ed8-90bb-99c4f50d19f9",
   "metadata": {},
   "outputs": [],
   "source": [
    "# integrate over subdomains\n",
    "dx = Measure(\"dx\", domain=submesh)\n",
    "# integrate over boundaries\n",
    "ds = Measure(\"ds\", domain=submesh, subdomain_data=sub_meshtag)\n",
    "n = FacetNormal(submesh)"
   ]
  },
  {
   "cell_type": "markdown",
   "id": "d62b0a5c-a70b-4b54-abc2-414b5e36a71a",
   "metadata": {},
   "source": [
    "## Variational problem"
   ]
  },
  {
   "cell_type": "markdown",
   "id": "c0fa7ce0-cbac-41fa-abee-045d88cc4d3d",
   "metadata": {},
   "source": [
    "Here, the variational problem is straightforward as it involves a steady-state problem (of the Poisson equation type)."
   ]
  },
  {
   "cell_type": "code",
   "execution_count": 14,
   "id": "3689e62d-2ace-4c17-89eb-ae912b5c8400",
   "metadata": {},
   "outputs": [],
   "source": [
    "a = ufl.dot(ufl.grad(p), ufl.grad(u)) * dx\n",
    "L = - qin * u * ds(1)"
   ]
  },
  {
   "cell_type": "markdown",
   "id": "bb3bc4ba-ab66-402c-bf9f-69abf7ccd5ed",
   "metadata": {},
   "source": [
    "## Linear solver"
   ]
  },
  {
   "cell_type": "code",
   "execution_count": 15,
   "id": "4ad9b050-47eb-4fa1-bd29-f0571d1a571d",
   "metadata": {},
   "outputs": [
    {
     "name": "stdout",
     "output_type": "stream",
     "text": [
      "CPU times: user 21min 53s, sys: 8.15 s, total: 22min 1s\n",
      "Wall time: 21min 54s\n"
     ]
    }
   ],
   "source": [
    "%%time\n",
    "problem = fem.petsc.LinearProblem(a, L, bcs=bc_tot, petsc_options={\"ksp_type\": \"preonly\", \"pc_type\": \"lu\"})\n",
    "p_h = problem.solve()\n",
    "xdmf.write_function(p_h)\n",
    "xdmf.close()"
   ]
  },
  {
   "cell_type": "markdown",
   "id": "24ea19ff-47d6-4d89-8c94-b1bba3c805aa",
   "metadata": {},
   "source": [
    "## Fluid flow"
   ]
  },
  {
   "cell_type": "markdown",
   "id": "fc609b5e-9df7-4238-b329-803916c215a3",
   "metadata": {},
   "source": [
    "The fluid velocity field corresponds to the pressure gradient."
   ]
  },
  {
   "cell_type": "code",
   "execution_count": 16,
   "id": "aac0fda0-6a9a-43c9-a0c9-f27aec8e80e6",
   "metadata": {},
   "outputs": [],
   "source": [
    "V = VectorFunctionSpace(submesh, (\"CG\", 1))\n",
    "q_expr = fem.Expression(-ufl.grad(p_h), V.element.interpolation_points())\n",
    "q_sub = fem.Function(V)\n",
    "q_sub.interpolate(q_expr)"
   ]
  },
  {
   "cell_type": "markdown",
   "id": "9852e848-5826-4be2-9a53-956ee6bb3de1",
   "metadata": {},
   "source": [
    "Uncomment the following cell to visualize the submesh and the fluid velocity field inside it."
   ]
  },
  {
   "cell_type": "raw",
   "id": "768521e6-4176-4676-a398-2c9937136a3f",
   "metadata": {},
   "source": [
    "pyvista.start_xvfb()\n",
    "pyvista.set_jupyter_backend(\"panel\")\n",
    "\n",
    "topology, cell_types, geometry = create_vtk_mesh(V)\n",
    "values = np.zeros((geometry.shape[0], 3), dtype=np.float64)\n",
    "values[:, :len(q_sub)] = q_sub.x.array.real.reshape((geometry.shape[0], len(q_sub)))\n",
    "\n",
    "# Create a point cloud of glyphs\n",
    "function_grid = pyvista.UnstructuredGrid(topology, cell_types, geometry)\n",
    "function_grid[\"q_sub\"] = values\n",
    "glyphs = function_grid.glyph(orient=\"q_sub\", factor=10)\n",
    "\n",
    "# Create a pyvista-grid for the mesh\n",
    "grid = pyvista.UnstructuredGrid(*create_vtk_mesh(submesh, submesh.topology.dim))\n",
    "\n",
    "# Create plotter\n",
    "plotter = pyvista.Plotter()\n",
    "plotter.add_mesh(grid, style=\"wireframe\", color=\"k\")\n",
    "plotter.add_mesh(glyphs)\n",
    "plotter.view_xy()\n",
    "if not pyvista.OFF_SCREEN:\n",
    "    plotter.show()"
   ]
  },
  {
   "cell_type": "code",
   "execution_count": 17,
   "id": "9f005774-014b-4a4f-a276-8b88ace5708b",
   "metadata": {},
   "outputs": [],
   "source": [
    "# save fluid velocity field in another file to visualize in paraview\n",
    "xdmf = XDMFFile(submesh.comm, \"solution_3D_FTES_fluidVelocity_model.xdmf\", \"w\")\n",
    "xdmf.write_mesh(submesh)\n",
    "xdmf.write_function(q_sub)\n",
    "xdmf.close()"
   ]
  },
  {
   "cell_type": "markdown",
   "id": "4c92dd17-4724-4293-a6f4-c8e8cd189397",
   "metadata": {},
   "source": [
    "# PART 2: heat transfer"
   ]
  },
  {
   "cell_type": "markdown",
   "id": "7a4ed69e-654d-4e13-ad3c-3b78ef61ef05",
   "metadata": {},
   "source": [
    "## Output file for heat transfer problem"
   ]
  },
  {
   "cell_type": "code",
   "execution_count": 18,
   "id": "d251ffe6-e5dd-4eb6-b80b-1bf6f6f8d721",
   "metadata": {},
   "outputs": [],
   "source": [
    "xdmf = XDMFFile(mesh.comm, \"solution_3D_FTES_temperature_model.xdmf\", \"w\")\n",
    "xdmf.write_mesh(mesh)"
   ]
  },
  {
   "cell_type": "markdown",
   "id": "ab2028e4-c957-474f-9fc6-3dd7993e29db",
   "metadata": {},
   "source": [
    "## Temporal parameters"
   ]
  },
  {
   "cell_type": "code",
   "execution_count": 19,
   "id": "1459a546-4080-45e9-b559-11d5d9cd80ae",
   "metadata": {},
   "outputs": [],
   "source": [
    "t = 0              # start time\n",
    "T = 100*8*3600.    # final time\n",
    "num_steps = 200\n",
    "dt = T / num_steps # time step size\n",
    "\n",
    "Text = 20 # initial temperature in the system\n",
    "Tinj = 70 # temperature of injected water"
   ]
  },
  {
   "cell_type": "markdown",
   "id": "8901c4cd-b54b-4a8a-b678-8f42942bf2fa",
   "metadata": {},
   "source": [
    "## Finite element function space for temperature field"
   ]
  },
  {
   "cell_type": "code",
   "execution_count": 20,
   "id": "08d18ec3-89f0-4f03-b397-423f511ebc20",
   "metadata": {},
   "outputs": [],
   "source": [
    "W = FunctionSpace(mesh, (\"CG\", 1))  # Lagrange linear elements (degree 1)"
   ]
  },
  {
   "cell_type": "markdown",
   "id": "c2e1aefd-d66f-4b98-9cc0-ecab7ffc9e73",
   "metadata": {},
   "source": [
    "## Initial conditions"
   ]
  },
  {
   "cell_type": "code",
   "execution_count": 21,
   "id": "23aae9ce-053c-4e41-be75-0f86f16dd362",
   "metadata": {},
   "outputs": [],
   "source": [
    "T_n = Function(W)\n",
    "T_n.name = \"T_n\"\n",
    "T_n.x.array[:] = np.full(len(T_n.x.array), Text)"
   ]
  },
  {
   "cell_type": "markdown",
   "id": "4c40c9aa-f77b-4200-a697-8635d642ffd3",
   "metadata": {},
   "source": [
    "Store the initial condition in another variable as T_n undergoes changes at each iteration, ensuring that the initial temperature is preserved for calculating different energies at each step."
   ]
  },
  {
   "cell_type": "code",
   "execution_count": 22,
   "id": "a05f50a9-fc48-4c97-a465-195441cb7343",
   "metadata": {},
   "outputs": [],
   "source": [
    "T_i = T_n.copy()\n",
    "T_i.name = \"T_i\""
   ]
  },
  {
   "cell_type": "markdown",
   "id": "690e6a68-704a-4da1-a98e-1aa1ddeb8a84",
   "metadata": {},
   "source": [
    "## Time-dependent output"
   ]
  },
  {
   "cell_type": "code",
   "execution_count": 23,
   "id": "330e08f0-c5a9-4d59-ae51-1eee32505f6e",
   "metadata": {},
   "outputs": [],
   "source": [
    "T_h = T_n.copy()\n",
    "T_h.name = \"T_h\"\n",
    "xdmf.write_function(T_h, t)"
   ]
  },
  {
   "cell_type": "markdown",
   "id": "aeeae29a-4de6-480c-b97a-9bf608622709",
   "metadata": {},
   "source": [
    "## Trial and test functions"
   ]
  },
  {
   "cell_type": "code",
   "execution_count": 24,
   "id": "7374f002-94f4-40cd-ac61-59a57fba6081",
   "metadata": {},
   "outputs": [],
   "source": [
    "T, r = ufl.TrialFunction(W), ufl.TestFunction(W)"
   ]
  },
  {
   "cell_type": "markdown",
   "id": "800b0076-213d-4d14-906a-df9e6972d879",
   "metadata": {},
   "source": [
    "## Material properties"
   ]
  },
  {
   "cell_type": "code",
   "execution_count": 25,
   "id": "5b360fd3-fb7d-41dc-adc7-7d5e4ee5f219",
   "metadata": {},
   "outputs": [
    {
     "name": "stdout",
     "output_type": "stream",
     "text": [
      "Thermal diffusivity of gabbro:1.5579710144927536e-06\n",
      "Thermal diffusivity of water:1.4342405504413766e-07\n",
      "Thermal diffusivity of metal:1.3392857142857142e-05\n",
      "Thermal diffusivity of epoxy resin:1.1466011466011467e-07\n"
     ]
    }
   ],
   "source": [
    "# for gabbro\n",
    "rho_g = 3000                 # density of gabbro in kg/m³\n",
    "c_g = 460                    # specific heat of gabbro in J/(kg*K)\n",
    "cond_g = 2.15                # thermal conductivity of gabbro in W/(m·K)\n",
    "print(\"Thermal diffusivity of gabbro:\" + str(cond_g/(rho_g*c_g)))\n",
    "\n",
    "# for water\n",
    "rho_w = 997                  # density of water in kg/m³\n",
    "c_w = 4182                   # specific heat of water in J/(kg*K)\n",
    "cond_w = 0.598               # thermal conductivity of water in W/(m·K)\n",
    "print(\"Thermal diffusivity of water:\" + str(cond_w/(rho_w*c_w)))\n",
    "\n",
    "# for metal (assume steel)\n",
    "rho_m = 8000                 # density of metal in kg/m³\n",
    "c_m = 420                    # specific heat of metal in J/(kg*K)\n",
    "cond_m = 45                  # thermal conductivity of metal in W/(m·K)\n",
    "print(\"Thermal diffusivity of metal:\" + str(cond_m/(rho_m*c_m)))\n",
    "\n",
    "# for epoxy resin\n",
    "rho_e = 1100                 # density of epoxy resin in kg/m³\n",
    "c_e = 1110                   # specific heat of epoxy resin in J/(kg*K)\n",
    "cond_e = 0.14                # thermal conductivity of epoxy resin in W/(m·K)\n",
    "print(\"Thermal diffusivity of epoxy resin:\" + str(cond_e/(rho_e*c_e)))\n",
    "\n",
    "# give those different properties to the domain\n",
    "M = FunctionSpace(mesh, (\"DG\", 0))\n",
    "metal_mask = (cell_tags.values == 103)\n",
    "epoxy_mask = (cell_tags.values == 104)\n",
    "rock_mask = (cell_tags.values == 105)\n",
    "fluid_mask = (cell_tags.values == 106)|(cell_tags.values == 107)\n",
    "\n",
    "rho = Function(M)\n",
    "rho.x.array[metal_mask] = np.full(metal_mask.sum(), rho_m)\n",
    "rho.x.array[epoxy_mask] = np.full(epoxy_mask.sum(), rho_e)\n",
    "rho.x.array[rock_mask] = np.full(rock_mask.sum(), rho_g)\n",
    "rho.x.array[fluid_mask] = np.full(fluid_mask.sum(), rho_w)\n",
    "\n",
    "c = Function(M)\n",
    "c.x.array[metal_mask] = np.full(metal_mask.sum(), c_m)\n",
    "c.x.array[epoxy_mask] = np.full(epoxy_mask.sum(), c_e)\n",
    "c.x.array[rock_mask] = np.full(rock_mask.sum(), c_g)\n",
    "c.x.array[fluid_mask] = np.full(fluid_mask.sum(), c_w)\n",
    "\n",
    "cond = Function(M)\n",
    "cond.x.array[metal_mask] = np.full(metal_mask.sum(), cond_m)\n",
    "cond.x.array[epoxy_mask] = np.full(epoxy_mask.sum(), cond_e)\n",
    "cond.x.array[rock_mask] = np.full(rock_mask.sum(), cond_g)\n",
    "cond.x.array[fluid_mask] = np.full(fluid_mask.sum(), cond_w)"
   ]
  },
  {
   "cell_type": "markdown",
   "id": "76b8480d-aa37-4791-936d-8d4ca7ffdc7b",
   "metadata": {},
   "source": [
    "## Fluid flow"
   ]
  },
  {
   "cell_type": "code",
   "execution_count": 26,
   "id": "29aae468-7bb3-4ea5-8388-2e09940f83be",
   "metadata": {},
   "outputs": [],
   "source": [
    "# function to transfer data from submesh to parent mesh\n",
    "# source: https://gist.github.com/jorgensd/9170f86a9e47d22b73f1f0598f038773\n",
    "def transfer_submesh_data(u_parent: dolfinx.fem.Function, u_sub: dolfinx.fem.Function,\n",
    "                          sub_to_parent_cells: np.ndarray, inverse: bool = False):\n",
    "    \"\"\"\n",
    "    Transfer data between a function from the parent mesh and a function from the sub mesh.\n",
    "    Both functions has to share the same element dof layout\n",
    "    Args:\n",
    "        u_parent: Function on parent mesh\n",
    "        u_sub: Function on sub mesh\n",
    "        sub_to_parent_cells: Map from sub mesh (local index) to parent mesh (local index)\n",
    "        inverse: If true map from u_sub->u_parent else u_parent->u_sub\n",
    "    \"\"\"\n",
    "    V_parent = u_parent.function_space\n",
    "    V_sub = u_sub.function_space\n",
    "    # FIXME: In C++ check elementlayout for equality\n",
    "    if inverse:\n",
    "        for i, cell in enumerate(sub_to_parent_cells):\n",
    "            bs = V_parent.dofmap.bs\n",
    "            bs_sub = V_sub.dofmap.bs\n",
    "            assert(bs == bs_sub)\n",
    "            parent_dofs = V_parent.dofmap.cell_dofs(cell)\n",
    "            sub_dofs = V_sub.dofmap.cell_dofs(i)\n",
    "            for p_dof, s_dof in zip(parent_dofs, sub_dofs):\n",
    "                for j in range(bs):\n",
    "                    u_parent.x.array[p_dof * bs + j] = u_sub.x.array[s_dof * bs + j]\n",
    "    else:\n",
    "        for i, cell in enumerate(sub_to_parent_cells):\n",
    "            bs = V_parent.dofmap.bs\n",
    "            bs_sub = V_sub.dofmap.bs\n",
    "            assert(bs == bs_sub)\n",
    "            parent_dofs = V_parent.dofmap.cell_dofs(cell)\n",
    "            sub_dofs = V_sub.dofmap.cell_dofs(i)\n",
    "            for p_dof, s_dof in zip(parent_dofs, sub_dofs):\n",
    "                for j in range(bs):\n",
    "                    u_sub.x.array[s_dof * bs + j] = u_parent.x.array[p_dof * bs + j]"
   ]
  },
  {
   "cell_type": "code",
   "execution_count": 27,
   "id": "12945643-5ce3-499f-bad7-85ba571f0f7c",
   "metadata": {},
   "outputs": [],
   "source": [
    "# transfer solution of fluid velocity field to parent mesh\n",
    "Q = VectorFunctionSpace(mesh, (\"CG\", 1))\n",
    "q = Function(Q)\n",
    "q.x.array[:] = 0\n",
    "transfer_submesh_data(q, q_sub, entity_map, inverse=True)\n",
    "q.x.scatter_forward()"
   ]
  },
  {
   "cell_type": "markdown",
   "id": "29f2d9b5-260f-4e25-92eb-ab96e611affb",
   "metadata": {},
   "source": [
    "Uncomment the following cell to visualize the parent mesh and the fluid velocity field inside it."
   ]
  },
  {
   "cell_type": "raw",
   "id": "dac63126-1466-4b71-94e8-097bf7394692",
   "metadata": {},
   "source": [
    "pyvista.start_xvfb()\n",
    "pyvista.set_jupyter_backend(\"panel\")\n",
    "\n",
    "topology, cell_types, geometry = create_vtk_mesh(Q)\n",
    "values = np.zeros((geometry.shape[0], 3), dtype=np.float64)\n",
    "values[:, :len(q)] = q.x.array.real.reshape((geometry.shape[0], len(q)))\n",
    "\n",
    "# Create a point cloud of glyphs\n",
    "function_grid = pyvista.UnstructuredGrid(topology, cell_types, geometry)\n",
    "function_grid[\"q\"] = values\n",
    "glyphs = function_grid.glyph(orient=\"q\", factor=10)\n",
    "\n",
    "# Create a pyvista-grid for the mesh\n",
    "grid = pyvista.UnstructuredGrid(*create_vtk_mesh(mesh, mesh.topology.dim))\n",
    "\n",
    "# Create plotter\n",
    "plotter = pyvista.Plotter()\n",
    "plotter.add_mesh(grid, style=\"wireframe\", color=\"k\")\n",
    "plotter.add_mesh(glyphs)\n",
    "plotter.view_xy()\n",
    "if not pyvista.OFF_SCREEN:\n",
    "    plotter.show()"
   ]
  },
  {
   "cell_type": "markdown",
   "id": "a1dccd28-4181-4480-81d1-03df53d3cdb7",
   "metadata": {},
   "source": [
    "## Boundary conditions"
   ]
  },
  {
   "cell_type": "code",
   "execution_count": 28,
   "id": "813a3a39-b9e5-4488-b48d-7cdaae70baca",
   "metadata": {
    "tags": []
   },
   "outputs": [],
   "source": [
    "# DIRICHLET: T=Ti on side 1\n",
    "boundary_dofs_inj = fem.locate_dofs_topological(W, mesh.topology.dim-1, facet_tags.indices[facet_tags.values == 1])\n",
    "bc_inj = fem.dirichletbc(ScalarType(Tinj), boundary_dofs_inj, W)\n",
    "\n",
    "bc_tot = [bc_inj]"
   ]
  },
  {
   "cell_type": "markdown",
   "id": "75e0e9d5-166d-4b96-86d7-28048ae96eb8",
   "metadata": {},
   "source": [
    "## Custom integration measures"
   ]
  },
  {
   "cell_type": "code",
   "execution_count": 29,
   "id": "e918daa9-162a-4c84-a1db-6bae15859ed0",
   "metadata": {},
   "outputs": [],
   "source": [
    "# integrate over subdomains\n",
    "dx = Measure(\"dx\", domain=mesh, subdomain_data=cell_tags)\n",
    "# integrate over boundaries\n",
    "ds = Measure(\"ds\", domain=mesh, subdomain_data=facet_tags)\n",
    "n = FacetNormal(mesh)"
   ]
  },
  {
   "cell_type": "markdown",
   "id": "b0c30af5-db5f-48d9-bc03-6c881d5531f7",
   "metadata": {},
   "source": [
    "## Variational problem"
   ]
  },
  {
   "cell_type": "code",
   "execution_count": 30,
   "id": "534557f8-b13e-40a2-be7a-0c4018ed939d",
   "metadata": {},
   "outputs": [],
   "source": [
    "F = rho * c * T * r * ufl.dx + dt * cond * ufl.dot(ufl.grad(T), ufl.grad(r)) * ufl.dx + dt * rho_w * c_w * ufl.dot(q, ufl.grad(T)) * r * ufl.dx \\\n",
    "    - (rho * c * T_n * r * ufl.dx)"
   ]
  },
  {
   "cell_type": "code",
   "execution_count": 31,
   "id": "4a74f81c-4661-41b3-8cc2-04bc224674a8",
   "metadata": {
    "tags": []
   },
   "outputs": [],
   "source": [
    "a = ufl.lhs(F)\n",
    "L = ufl.rhs(F)"
   ]
  },
  {
   "cell_type": "markdown",
   "id": "f56cdcbb-3c4b-408a-afbc-f246d6e8bdda",
   "metadata": {},
   "source": [
    "## Linear algebra structures for the time dependent problem"
   ]
  },
  {
   "cell_type": "code",
   "execution_count": 32,
   "id": "44013c98-9568-477c-8441-6b5970d43348",
   "metadata": {},
   "outputs": [],
   "source": [
    "bilinear_form = fem.form(a)\n",
    "linear_form = fem.form(L)"
   ]
  },
  {
   "cell_type": "code",
   "execution_count": 33,
   "id": "66c4ef2a-0e14-4db4-8d77-3dc4ea86f946",
   "metadata": {},
   "outputs": [
    {
     "name": "stdout",
     "output_type": "stream",
     "text": [
      "CPU times: user 1.6 s, sys: 28 ms, total: 1.63 s\n",
      "Wall time: 1.6 s\n"
     ]
    }
   ],
   "source": [
    "%%time\n",
    "# bilinear_form (a) isn't time dependant so we can assemble it once\n",
    "A = fem.petsc.assemble_matrix(bilinear_form, bcs=bc_tot)\n",
    "A.assemble()\n",
    "b = fem.petsc.create_vector(linear_form)"
   ]
  },
  {
   "cell_type": "markdown",
   "id": "54f5fb3f-384f-483c-8312-fcfc8ceed4f0",
   "metadata": {},
   "source": [
    "## Linear solver"
   ]
  },
  {
   "cell_type": "code",
   "execution_count": 34,
   "id": "e99ea2f0-fdb9-4b4a-9d97-2cc8a9044631",
   "metadata": {},
   "outputs": [
    {
     "name": "stdout",
     "output_type": "stream",
     "text": [
      "CPU times: user 113 µs, sys: 0 ns, total: 113 µs\n",
      "Wall time: 117 µs\n"
     ]
    }
   ],
   "source": [
    "%%time\n",
    "solver = PETSc.KSP().create(mesh.comm)\n",
    "solver.setOperators(A)\n",
    "solver.setType(PETSc.KSP.Type.PREONLY)\n",
    "solver.getPC().setType(PETSc.PC.Type.LU)\n",
    "#solver.setType(PETSc.KSP.Type.GMRES)\n",
    "#solver.setTolerances(rtol=1e-6, atol=1e-10, max_it=1000)\n",
    "#solver.getPC().setType(PETSc.PC.Type.ILU)"
   ]
  },
  {
   "cell_type": "code",
   "execution_count": 35,
   "id": "bbfff927-eeff-4bed-aebe-87c85398075a",
   "metadata": {},
   "outputs": [
    {
     "name": "stdout",
     "output_type": "stream",
     "text": [
      "0\n",
      "10\n",
      "20\n",
      "30\n",
      "40\n",
      "50\n",
      "60\n",
      "70\n",
      "80\n",
      "90\n",
      "100\n",
      "110\n",
      "120\n",
      "130\n",
      "140\n",
      "150\n",
      "160\n",
      "170\n",
      "180\n",
      "190\n",
      "CPU times: user 7min 19s, sys: 5.77 s, total: 7min 25s\n",
      "Wall time: 7min 22s\n"
     ]
    }
   ],
   "source": [
    "%%time\n",
    "E_stored = [0]  # at the initial state no energy is stored\n",
    "E_input_conduction = [0]\n",
    "E_input_advection = [0]\n",
    "E_output_advection = [0]\n",
    "for i in range(num_steps):\n",
    "    t += dt\n",
    "\n",
    "    # Update the right hand side reusing the initial vector\n",
    "    with b.localForm() as loc_b:\n",
    "        loc_b.set(0)\n",
    "    fem.petsc.assemble_vector(b, linear_form)\n",
    "    \n",
    "    # Apply Dirichlet boundary condition to the vector\n",
    "    fem.petsc.apply_lifting(b, [bilinear_form], [bc_tot])\n",
    "    b.ghostUpdate(addv=PETSc.InsertMode.ADD_VALUES, mode=PETSc.ScatterMode.REVERSE)\n",
    "    fem.petsc.set_bc(b, bc_tot)\n",
    "\n",
    "    # Solve linear problem\n",
    "    solver.solve(b, T_h.vector)\n",
    "    T_h.x.scatter_forward()\n",
    "\n",
    "    # Update solution at previous time step (u_n)\n",
    "    T_n.x.array[:] = T_h.x.array\n",
    "    \n",
    "    # Write solution to file\n",
    "    xdmf.write_function(T_h, t)\n",
    "    \n",
    "    # Compute stored energy\n",
    "    I1 = fem.form(rho * c * (T_h-T_i) * dx((103, 104, 105, 106, 107)))\n",
    "    E_stored.append(fem.assemble_scalar(I1))\n",
    "    \n",
    "    # Compute input energy by conduction   \n",
    "    I2 = fem.form(dt * cond * ufl.dot(ufl.grad(T_h), n) * ds(1))\n",
    "    #I2 = fem.form(dt * cond * ufl.dot(ufl.grad(T_h), ufl.grad(T_h))**(1/2) * ds(1))\n",
    "    E_input_conduction.append(fem.assemble_scalar(I2))\n",
    "    \n",
    "    # Compute input energy by advection\n",
    "    I3 = fem.form(dt * rho * c * ufl.dot(q, -n) * (T_h-T_i) * ds(1))\n",
    "    E_input_advection.append(fem.assemble_scalar(I3))\n",
    "    \n",
    "    # Compute output energy by advection\n",
    "    I4 = fem.form(dt * rho * c * ufl.dot(q, n) * (T_h-T_i) * ds(2))\n",
    "    #I4 = fem.form(dt * rho * c * ufl.dot(q, q)**(1/2) * (T_h-T_i) * ds(2))\n",
    "    E_output_advection.append(fem.assemble_scalar(I4))\n",
    "    \n",
    "    if i % 10 == 0:\n",
    "        print(i)\n",
    "        \n",
    "xdmf.close()"
   ]
  },
  {
   "cell_type": "code",
   "execution_count": 36,
   "id": "5e470f98-711f-4008-8ba5-58817adf6a2a",
   "metadata": {},
   "outputs": [
    {
     "name": "stdout",
     "output_type": "stream",
     "text": [
      "Flow in =  1.0416666666666667e-09\n",
      "Flow out =  1.040477463338482e-09\n",
      "Flow in = Flow out !\n"
     ]
    }
   ],
   "source": [
    "Itest = fem.form(ufl.dot(q, n) * ds(2))\n",
    "print(\"Flow in = \", Qinj/4)\n",
    "print(\"Flow out = \", fem.assemble_scalar(Itest))\n",
    "print(\"Flow in = Flow out !\")"
   ]
  },
  {
   "cell_type": "markdown",
   "id": "b11ed0c4-b8bc-4981-a527-8d8eddd05939",
   "metadata": {
    "tags": []
   },
   "source": [
    "## Post-processing of results (energy balance)"
   ]
  },
  {
   "cell_type": "markdown",
   "id": "e2be5fad-419b-42ef-ac0a-ae50893ab5eb",
   "metadata": {},
   "source": [
    "The two graphs below are shown for informational purposes only because the current simulation is not energy conservative. Indeed, the energy stored in the system at each time step is different from the accumulated energy given to the system minus the energy that has left the system. In order for the simulation to be energy conservative, the interpolation order of the fluid pressure field must be increased to 4 instead of 2. The detailed explanation is provided directly in my Master's thesis report."
   ]
  },
  {
   "cell_type": "code",
   "execution_count": 37,
   "id": "bb237648-7ba3-4b9e-8ed2-edd15b11e28e",
   "metadata": {},
   "outputs": [
    {
     "data": {
      "image/png": "[encoded data removed]",
      "text/plain": [
       "<Figure size 640x480 with 1 Axes>"
      ]
     },
     "metadata": {},
     "output_type": "display_data"
    }
   ],
   "source": [
    "# Plot input and output energies to the system versus stored energy\n",
    "plt.plot(np.array(E_stored), label = \"total stored energy\")\n",
    "plt.plot(np.array(E_input_conduction).cumsum(), label = \"cumulative input energy conduction\")\n",
    "plt.plot(np.array(E_input_advection).cumsum(), label = \"cumulative input energy advection\")\n",
    "plt.plot(np.array(E_output_advection).cumsum(), label = \"cumulative output energy advection\")\n",
    "plt.legend(loc=\"upper left\")\n",
    "plt.xlabel('Time step')\n",
    "plt.ylabel('Energy [J/m]')\n",
    "plt.show()"
   ]
  },
  {
   "cell_type": "code",
   "execution_count": 38,
   "id": "a184a79f-5652-47ce-86b6-c668bf5d4e49",
   "metadata": {},
   "outputs": [
    {
     "data": {
      "image/png": "[encoded data removed]",
      "text/plain": [
       "<Figure size 640x480 with 1 Axes>"
      ]
     },
     "metadata": {},
     "output_type": "display_data"
    }
   ],
   "source": [
    "# Plot input-output energies to comparte with stored energy\n",
    "plt.plot(np.array(E_stored), label = \"stored energy\")\n",
    "plt.plot(np.array(E_input_conduction).cumsum()+np.array(E_input_advection).cumsum()-np.array(E_output_advection).cumsum(), label = \"input-output energy\")\n",
    "plt.legend(loc=\"upper left\")\n",
    "plt.xlabel('Time step')\n",
    "plt.ylabel('Energy [J/m]')\n",
    "plt.show()"
   ]
  },
  {
   "cell_type": "raw",
   "id": "b36ede54-dc7c-4063-8b7e-e8d894757b91",
   "metadata": {},
   "source": [
    "!jupyter nbconvert --to script 3D_advection_diffusion_numericalFlowSteady.ipynb"
   ]
  },
  {
   "cell_type": "code",
   "execution_count": null,
   "id": "15a7313c-1bf6-410b-a374-660ae1e88703",
   "metadata": {},
   "outputs": [],
   "source": []
  }
 ],
 "metadata": {
  "kernelspec": {
   "display_name": "Python 3 (ipykernel)",
   "language": "python",
   "name": "python3"
  },
  "language_info": {
   "codemirror_mode": {
    "name": "ipython",
    "version": 3
   },
   "file_extension": ".py",
   "mimetype": "text/x-python",
   "name": "python",
   "nbconvert_exporter": "python",
   "pygments_lexer": "ipython3",
   "version": "3.10.6"
  }
 },
 "nbformat": 4,
 "nbformat_minor": 5
}
