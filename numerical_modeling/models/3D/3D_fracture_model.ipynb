{
 "cells": [
  {
   "cell_type": "markdown",
   "id": "3cb14fc5-9b58-4ac7-a460-0cb2511cecc0",
   "metadata": {
    "tags": []
   },
   "source": [
    "# 3D model to study the heat transfer along the fracture"
   ]
  },
  {
   "cell_type": "markdown",
   "id": "29581768-eb91-4651-b2b3-86940d10c031",
   "metadata": {},
   "source": [
    "This script corresponds to the model used in section 3.3.5 (Heat transfer along fracture) of my master's thesis report."
   ]
  },
  {
   "cell_type": "code",
   "execution_count": 1,
   "id": "e8dddf16-c2d8-4043-afee-d1cd1621efc5",
   "metadata": {},
   "outputs": [
    {
     "name": "stdout",
     "output_type": "stream",
     "text": [
      "Selected Jupyter core packages...\n",
      "IPython          : 8.8.0\n",
      "ipykernel        : 6.20.2\n",
      "ipywidgets       : 7.7.2\n",
      "jupyter_client   : 7.4.9\n",
      "jupyter_core     : 5.1.4\n",
      "jupyter_server   : 2.1.0\n",
      "jupyterlab       : 3.5.3\n",
      "nbclient         : 0.7.2\n",
      "nbconvert        : 7.2.8\n",
      "nbformat         : 5.7.3\n",
      "notebook         : 6.5.2\n",
      "qtconsole        : 5.4.0\n",
      "traitlets        : 5.8.1\n"
     ]
    }
   ],
   "source": [
    "!jupyter --version"
   ]
  },
  {
   "cell_type": "code",
   "execution_count": 2,
   "id": "8ebcc478-1055-46d0-9f99-271f913d4dc3",
   "metadata": {},
   "outputs": [],
   "source": [
    "import numpy as np\n",
    "import io\n",
    "from mpi4py import MPI\n",
    "import pyvista\n",
    "import ufl\n",
    "from ufl import Measure, FacetNormal\n",
    "import matplotlib.pyplot as plt\n",
    "\n",
    "import dolfinx\n",
    "from dolfinx import fem, plot\n",
    "from dolfinx.io import XDMFFile\n",
    "from dolfinx.fem import FunctionSpace, VectorFunctionSpace, Constant, Function\n",
    "from dolfinx.plot import create_vtk_mesh\n",
    "from dolfinx.io.gmshio import read_from_msh \n",
    "\n",
    "from petsc4py import PETSc\n",
    "from petsc4py.PETSc import ScalarType"
   ]
  },
  {
   "cell_type": "markdown",
   "id": "0aea698d-274e-467f-8ac9-a2df2798ffcb",
   "metadata": {},
   "source": [
    "## Mesh reading"
   ]
  },
  {
   "cell_type": "code",
   "execution_count": 3,
   "id": "e36b0f2f-267e-4bcf-8c13-4cbf694c0abc",
   "metadata": {},
   "outputs": [
    {
     "name": "stdout",
     "output_type": "stream",
     "text": [
      "Info    : Reading '../../Meshes/3D/3D_fracture_mesh.msh'...\n",
      "Info    : 396 entities\n",
      "Info    : 326800 nodes\n",
      "Info    : 317300 elements                                               \n",
      "Info    : Done reading '../../Meshes/3D/3D_fracture_mesh.msh'              \n"
     ]
    }
   ],
   "source": [
    "mesh, cell_tags, facet_tags = read_from_msh(\"../../meshes/3D/3D_fracture_mesh.msh\", MPI.COMM_WORLD, 0)"
   ]
  },
  {
   "cell_type": "code",
   "execution_count": 4,
   "id": "e1fff776-5cc7-48ea-ba1d-db8e67559741",
   "metadata": {},
   "outputs": [
    {
     "name": "stdout",
     "output_type": "stream",
     "text": [
      "[103 104 105 107]\n",
      "[1 2]\n"
     ]
    }
   ],
   "source": [
    "print(np.unique(cell_tags.values))\n",
    "print(np.unique(facet_tags.values))"
   ]
  },
  {
   "cell_type": "markdown",
   "id": "d87865b4-c4ba-46e8-9bdd-eb64b3b279ca",
   "metadata": {},
   "source": [
    "Uncomment the following cell to visualize the mesh and the different subdomains."
   ]
  },
  {
   "cell_type": "raw",
   "id": "48c3dec3-7e0a-4065-ab4a-0c0adb304b6c",
   "metadata": {},
   "source": [
    "# visualise the different materials\n",
    "pyvista.start_xvfb()\n",
    "pyvista.set_jupyter_backend(\"panel\")\n",
    "\n",
    "p = pyvista.Plotter(window_size=[800, 800], shape=(1,1))\n",
    "# Filter out ghosted cells\n",
    "num_cells_local = mesh.topology.index_map(mesh.topology.dim).size_local\n",
    "marker = np.zeros(num_cells_local, dtype=np.int32)\n",
    "cells_0 = cell_tags.indices[cell_tags.values == 103]\n",
    "cells_1 = cell_tags.indices[cell_tags.values == 104]\n",
    "cells_2 = cell_tags.indices[cell_tags.values == 105]\n",
    "cells_3 = cell_tags.indices[cell_tags.values == 106]\n",
    "cells_4 = cell_tags.indices[cell_tags.values == 107]\n",
    "cells_0 = cells_0[cells_0<num_cells_local]\n",
    "cells_1 = cells_1[cells_1<num_cells_local]\n",
    "cells_2 = cells_2[cells_2<num_cells_local]\n",
    "cells_3 = cells_3[cells_3<num_cells_local]\n",
    "cells_4 = cells_4[cells_4<num_cells_local]\n",
    "marker[cells_0] = 1\n",
    "marker[cells_1] = 2\n",
    "marker[cells_2] = 3\n",
    "marker[cells_3] = 4\n",
    "marker[cells_4] = 5\n",
    "topology, cell_types, x = create_vtk_mesh(mesh, mesh.topology.dim, np.arange(num_cells_local, dtype=np.int32))\n",
    "grid = pyvista.UnstructuredGrid(topology, cell_types, x)  # UnstructuredGrid StructuredGrid\n",
    "grid.cell_data[\"Marker\"] = marker\n",
    "grid.set_active_scalars(\"Marker\")\n",
    "actor0 = p.add_mesh(grid, show_edges=True)\n",
    "if not pyvista.OFF_SCREEN:\n",
    "    p.show()"
   ]
  },
  {
   "cell_type": "markdown",
   "id": "7a4ed69e-654d-4e13-ad3c-3b78ef61ef05",
   "metadata": {},
   "source": [
    "## Output file"
   ]
  },
  {
   "cell_type": "code",
   "execution_count": 5,
   "id": "d251ffe6-e5dd-4eb6-b80b-1bf6f6f8d721",
   "metadata": {},
   "outputs": [],
   "source": [
    "xdmf = XDMFFile(mesh.comm, \"solution_3D_fracture_model.xdmf\", \"w\")\n",
    "xdmf.write_mesh(mesh)"
   ]
  },
  {
   "cell_type": "markdown",
   "id": "9ceea7ad-1d49-4587-a2a6-e8c749922fb6",
   "metadata": {},
   "source": [
    "## Temporal parameters"
   ]
  },
  {
   "cell_type": "code",
   "execution_count": 6,
   "id": "1459a546-4080-45e9-b559-11d5d9cd80ae",
   "metadata": {},
   "outputs": [],
   "source": [
    "t = 0              # start time\n",
    "T = 8*3600         # final time\n",
    "num_steps = 200    # 200\n",
    "dt = T / num_steps # time step size\n",
    "\n",
    "Text = 20 # initial temperature in the system\n",
    "Tinj = 70 # temperature of injected water"
   ]
  },
  {
   "cell_type": "markdown",
   "id": "8901c4cd-b54b-4a8a-b678-8f42942bf2fa",
   "metadata": {},
   "source": [
    "## Finite element function space for temperature field"
   ]
  },
  {
   "cell_type": "code",
   "execution_count": 7,
   "id": "08d18ec3-89f0-4f03-b397-423f511ebc20",
   "metadata": {},
   "outputs": [],
   "source": [
    "V = FunctionSpace(mesh, (\"CG\", 1))  # Lagrange linear elements (degree 1)"
   ]
  },
  {
   "cell_type": "markdown",
   "id": "c2e1aefd-d66f-4b98-9cc0-ecab7ffc9e73",
   "metadata": {},
   "source": [
    "## Initial conditions"
   ]
  },
  {
   "cell_type": "code",
   "execution_count": 8,
   "id": "23aae9ce-053c-4e41-be75-0f86f16dd362",
   "metadata": {},
   "outputs": [],
   "source": [
    "T_n = Function(V)\n",
    "T_n.name = \"T_n\"\n",
    "T_n.x.array[:] = np.full(len(T_n.x.array), Text)"
   ]
  },
  {
   "cell_type": "markdown",
   "id": "4c40c9aa-f77b-4200-a697-8635d642ffd3",
   "metadata": {},
   "source": [
    "Store the initial condition in another variable as T_n undergoes changes at each iteration, ensuring that the initial temperature is preserved for calculating different energies at each step."
   ]
  },
  {
   "cell_type": "code",
   "execution_count": 9,
   "id": "a05f50a9-fc48-4c97-a465-195441cb7343",
   "metadata": {},
   "outputs": [],
   "source": [
    "T_i = T_n.copy()\n",
    "T_i.name = \"T_i\""
   ]
  },
  {
   "cell_type": "markdown",
   "id": "690e6a68-704a-4da1-a98e-1aa1ddeb8a84",
   "metadata": {},
   "source": [
    "## Time-dependent output"
   ]
  },
  {
   "cell_type": "code",
   "execution_count": 10,
   "id": "330e08f0-c5a9-4d59-ae51-1eee32505f6e",
   "metadata": {},
   "outputs": [],
   "source": [
    "T_h = T_n.copy()\n",
    "T_h.name = \"T_h\"\n",
    "xdmf.write_function(T_h, t)"
   ]
  },
  {
   "cell_type": "markdown",
   "id": "aeeae29a-4de6-480c-b97a-9bf608622709",
   "metadata": {},
   "source": [
    "## Trial and test functions"
   ]
  },
  {
   "cell_type": "code",
   "execution_count": 11,
   "id": "7374f002-94f4-40cd-ac61-59a57fba6081",
   "metadata": {},
   "outputs": [],
   "source": [
    "T, r = ufl.TrialFunction(V), ufl.TestFunction(V)"
   ]
  },
  {
   "cell_type": "markdown",
   "id": "800b0076-213d-4d14-906a-df9e6972d879",
   "metadata": {},
   "source": [
    "## Material properties"
   ]
  },
  {
   "cell_type": "code",
   "execution_count": 12,
   "id": "5b360fd3-fb7d-41dc-adc7-7d5e4ee5f219",
   "metadata": {},
   "outputs": [
    {
     "name": "stdout",
     "output_type": "stream",
     "text": [
      "Thermal diffusivity of gabbro:1.5579710144927536e-06\n",
      "Thermal diffusivity of water:1.4342405504413766e-07\n",
      "Thermal diffusivity of metal:1.3392857142857142e-05\n",
      "Thermal diffusivity of epoxy resin:1.1466011466011467e-07\n"
     ]
    }
   ],
   "source": [
    "# for gabbro\n",
    "rho_g = 3000                 # density of gabbro in kg/m³\n",
    "c_g = 460                    # specific heat of gabbro in J/(kg*K)\n",
    "cond_g = 2.15                # thermal conductivity of gabbro in W/(m·K)\n",
    "print(\"Thermal diffusivity of gabbro:\" + str(cond_g/(rho_g*c_g)))\n",
    "\n",
    "# for water\n",
    "rho_w = 997                  # density of water in kg/m³\n",
    "c_w = 4182                   # specific heat of water in J/(kg*K)\n",
    "cond_w = 0.598               # thermal conductivity of water in W/(m·K)\n",
    "print(\"Thermal diffusivity of water:\" + str(cond_w/(rho_w*c_w)))\n",
    "\n",
    "# for metal (assume steel)\n",
    "rho_m = 8000                 # density of metal in kg/m³\n",
    "c_m = 420                    # specific heat of metal in J/(kg*K)\n",
    "cond_m = 45                  # thermal conductivity of metal in W/(m·K)\n",
    "print(\"Thermal diffusivity of metal:\" + str(cond_m/(rho_m*c_m)))\n",
    "\n",
    "# for epoxy resin\n",
    "rho_e = 1100                 # density of epoxy resin in kg/m³\n",
    "c_e = 1110                   # specific heat of epoxy resin in J/(kg*K)\n",
    "cond_e = 0.14                # thermal conductivity of epoxy resin in W/(m·K)\n",
    "print(\"Thermal diffusivity of epoxy resin:\" + str(cond_e/(rho_e*c_e)))\n",
    "\n",
    "# give those different properties to the domain\n",
    "M = FunctionSpace(mesh, (\"DG\", 0))\n",
    "metal_mask = (cell_tags.values == 103)\n",
    "epoxy_mask = (cell_tags.values == 104)\n",
    "rock_mask = (cell_tags.values == 105)\n",
    "fluid_mask = (cell_tags.values == 106)|(cell_tags.values == 107)\n",
    "\n",
    "rho = Function(M)\n",
    "rho.x.array[metal_mask] = np.full(metal_mask.sum(), rho_g)\n",
    "rho.x.array[epoxy_mask] = np.full(epoxy_mask.sum(), rho_g)\n",
    "rho.x.array[rock_mask] = np.full(rock_mask.sum(), rho_g)\n",
    "rho.x.array[fluid_mask] = np.full(fluid_mask.sum(), rho_w)\n",
    "\n",
    "c = Function(M)\n",
    "c.x.array[metal_mask] = np.full(metal_mask.sum(), c_g)\n",
    "c.x.array[epoxy_mask] = np.full(epoxy_mask.sum(), c_g)\n",
    "c.x.array[rock_mask] = np.full(rock_mask.sum(), c_g)\n",
    "c.x.array[fluid_mask] = np.full(fluid_mask.sum(), c_w)\n",
    "\n",
    "cond = Function(M)\n",
    "cond.x.array[metal_mask] = np.full(metal_mask.sum(), cond_g)\n",
    "cond.x.array[epoxy_mask] = np.full(epoxy_mask.sum(), cond_g)\n",
    "cond.x.array[rock_mask] = np.full(rock_mask.sum(), cond_g)\n",
    "cond.x.array[fluid_mask] = np.full(fluid_mask.sum(), cond_w)"
   ]
  },
  {
   "cell_type": "markdown",
   "id": "76b8480d-aa37-4791-936d-8d4ca7ffdc7b",
   "metadata": {},
   "source": [
    "## Fluid flow"
   ]
  },
  {
   "cell_type": "code",
   "execution_count": 13,
   "id": "b4009d52-b674-4765-a059-ca2405071fe8",
   "metadata": {},
   "outputs": [],
   "source": [
    "# 0.25mL/min flow rate is injected by the pump\n",
    "Qinj = 0.25e-6/60*8*20 # *8*20 to test advection dominated regime\n",
    "Dpipe = 0.001          # inner diameter of the pipe is 1mm\n",
    "e = 0.001/2            # assumed fracture width (500 microns)\n",
    "\n",
    "# Finite element function space for fluid velocity field\n",
    "Q = VectorFunctionSpace(mesh, (\"DG\", 0))\n",
    "q = Function(Q)\n",
    "num_cells = mesh.topology.index_map(mesh.topology.dim).size_local\n",
    "block_size = Q.dofmap.index_map_bs  # number of dof per dofmap\n",
    "# define radial flux in the fracture and 0 flux in the solid materials (rock, tubing, epoxy)\n",
    "for i in range(num_cells):\n",
    "    # in rock the flow is null\n",
    "    if (cell_tags.values[i] == 103) | (cell_tags.values[i] == 104) | (cell_tags.values[i] == 105) :\n",
    "        q.x.array[[i*block_size, i*block_size+1, i*block_size+2]] = [0., 0., 0.]\n",
    "        # in the fracture the flow is radial and depends on the distance r to the well \n",
    "    elif cell_tags.values[i] == 107:\n",
    "        # obtain coordinates of the centroid of the element\n",
    "        coord_centroid = Q.tabulate_dof_coordinates()[i]\n",
    "        # calculate radial distance between the well center and the centroid of the element\n",
    "        rad = np.linalg.norm(coord_centroid[:2])\n",
    "        # calculate unit vector in the direction of flux\n",
    "        u = coord_centroid[:2]/rad\n",
    "        # calculate the flow rate norm as a function of the distance from the well and the pump flow\n",
    "        norm = Qinj/(2*np.pi*rad*e)\n",
    "        # assign the flow\n",
    "        q.x.array[[i*block_size, i*block_size+1, i*block_size+2]] = list(norm*u) + [0.]"
   ]
  },
  {
   "cell_type": "code",
   "execution_count": 14,
   "id": "af7c28a6-466b-40f7-a8d2-e5c311119e70",
   "metadata": {},
   "outputs": [
    {
     "name": "stdout",
     "output_type": "stream",
     "text": [
      "0.8488263631567753\n",
      "0.4244131815783876\n"
     ]
    }
   ],
   "source": [
    "print(4*Qinj/(np.pi*Dpipe**2))\n",
    "print(Qinj/(2*np.pi*Dpipe/2*e))"
   ]
  },
  {
   "cell_type": "markdown",
   "id": "8575b6f6-6034-4dd3-a3d0-63c1c529cfec",
   "metadata": {},
   "source": [
    "Uncomment the following cell to visualize the fluid velocity field inside the domain."
   ]
  },
  {
   "cell_type": "raw",
   "id": "aed24d52-26f2-4ca5-bff4-d033bef68d3d",
   "metadata": {},
   "source": [
    "# plot the flow field\n",
    "from dolfinx.mesh import compute_midpoints\n",
    "plotter = pyvista.Plotter()\n",
    "\n",
    "# We include ghosts cells as we access all degrees of freedom (including ghosts) on each process\n",
    "top_imap = mesh.topology.index_map(mesh.topology.dim)\n",
    "num_cells = top_imap.size_local + top_imap.num_ghosts\n",
    "midpoints = compute_midpoints(mesh, mesh.topology.dim, range(num_cells))\n",
    "\n",
    "num_dofs = Q.dofmap.index_map.size_local +  Q.dofmap.index_map.num_ghosts\n",
    "assert(num_cells == num_dofs)\n",
    "values = np.zeros((num_dofs, 3), dtype=np.float64)\n",
    "values[:, :mesh.geometry.dim] = q.x.array.real.reshape(num_dofs, Q.dofmap.index_map_bs)\n",
    "cloud = pyvista.PolyData(midpoints)\n",
    "cloud[\"q\"] = values\n",
    "glyphs = cloud.glyph(\"q\", factor=10)\n",
    "actor = plotter.add_mesh(grid, style=\"wireframe\", color=\"k\")\n",
    "actor2 = plotter.add_mesh(glyphs)\n",
    "\n",
    "if not pyvista.OFF_SCREEN:\n",
    "    plotter.show()"
   ]
  },
  {
   "cell_type": "markdown",
   "id": "a1dccd28-4181-4480-81d1-03df53d3cdb7",
   "metadata": {},
   "source": [
    "## Boundary conditions"
   ]
  },
  {
   "cell_type": "code",
   "execution_count": 15,
   "id": "813a3a39-b9e5-4488-b48d-7cdaae70baca",
   "metadata": {
    "tags": []
   },
   "outputs": [],
   "source": [
    "# DIRICHLET: T=Ti on side 1\n",
    "boundary_dofs_inj = fem.locate_dofs_topological(V, mesh.topology.dim-1, facet_tags.indices[facet_tags.values == 1])\n",
    "bc_inj = fem.dirichletbc(ScalarType(Tinj), boundary_dofs_inj, V)\n",
    "\n",
    "bc_tot = [bc_inj]"
   ]
  },
  {
   "cell_type": "markdown",
   "id": "b0c30af5-db5f-48d9-bc03-6c881d5531f7",
   "metadata": {},
   "source": [
    "## Variational problem"
   ]
  },
  {
   "cell_type": "code",
   "execution_count": 16,
   "id": "534557f8-b13e-40a2-be7a-0c4018ed939d",
   "metadata": {},
   "outputs": [],
   "source": [
    "F = rho * c * T * r * ufl.dx + dt * cond * ufl.dot(ufl.grad(T), ufl.grad(r)) * ufl.dx + dt * rho_w * c_w * ufl.dot(q, ufl.grad(T)) * r * ufl.dx \\\n",
    "    - (rho * c * T_n * r * ufl.dx)"
   ]
  },
  {
   "cell_type": "code",
   "execution_count": 17,
   "id": "4a74f81c-4661-41b3-8cc2-04bc224674a8",
   "metadata": {
    "tags": []
   },
   "outputs": [],
   "source": [
    "a = ufl.lhs(F)\n",
    "L = ufl.rhs(F)"
   ]
  },
  {
   "cell_type": "markdown",
   "id": "f56cdcbb-3c4b-408a-afbc-f246d6e8bdda",
   "metadata": {},
   "source": [
    "## Linear algebra structures for the time dependent problem"
   ]
  },
  {
   "cell_type": "code",
   "execution_count": 18,
   "id": "44013c98-9568-477c-8441-6b5970d43348",
   "metadata": {},
   "outputs": [],
   "source": [
    "bilinear_form = fem.form(a)\n",
    "linear_form = fem.form(L)"
   ]
  },
  {
   "cell_type": "code",
   "execution_count": 19,
   "id": "66c4ef2a-0e14-4db4-8d77-3dc4ea86f946",
   "metadata": {},
   "outputs": [
    {
     "name": "stdout",
     "output_type": "stream",
     "text": [
      "CPU times: user 1.67 s, sys: 44 ms, total: 1.72 s\n",
      "Wall time: 1.71 s\n"
     ]
    }
   ],
   "source": [
    "%%time\n",
    "# bilinear_form (a) isn't time dependant so we can assemble it once\n",
    "A = fem.petsc.assemble_matrix(bilinear_form, bcs=bc_tot)\n",
    "A.assemble()\n",
    "b = fem.petsc.create_vector(linear_form)"
   ]
  },
  {
   "cell_type": "markdown",
   "id": "d6ebbdac-e8c3-4571-8a49-849098a54636",
   "metadata": {},
   "source": [
    "## Custom integration measures"
   ]
  },
  {
   "cell_type": "code",
   "execution_count": 20,
   "id": "38c3a165-3d26-4e19-b685-6cdcdd0a08a0",
   "metadata": {},
   "outputs": [],
   "source": [
    "# integrate over subdomains\n",
    "dx = Measure(\"dx\", domain=mesh, subdomain_data=cell_tags)\n",
    "# integrate over boundaries\n",
    "ds = Measure(\"ds\", domain=mesh, subdomain_data=facet_tags)\n",
    "n = FacetNormal(mesh)"
   ]
  },
  {
   "cell_type": "markdown",
   "id": "54f5fb3f-384f-483c-8312-fcfc8ceed4f0",
   "metadata": {},
   "source": [
    "## Linear solver"
   ]
  },
  {
   "cell_type": "code",
   "execution_count": 21,
   "id": "e99ea2f0-fdb9-4b4a-9d97-2cc8a9044631",
   "metadata": {},
   "outputs": [
    {
     "name": "stdout",
     "output_type": "stream",
     "text": [
      "CPU times: user 305 µs, sys: 1 µs, total: 306 µs\n",
      "Wall time: 2.33 ms\n"
     ]
    }
   ],
   "source": [
    "%%time\n",
    "solver = PETSc.KSP().create(mesh.comm)\n",
    "solver.setOperators(A)\n",
    "solver.setType(PETSc.KSP.Type.PREONLY)\n",
    "solver.getPC().setType(PETSc.PC.Type.LU)"
   ]
  },
  {
   "cell_type": "code",
   "execution_count": 22,
   "id": "bbfff927-eeff-4bed-aebe-87c85398075a",
   "metadata": {},
   "outputs": [
    {
     "name": "stdout",
     "output_type": "stream",
     "text": [
      "0\n",
      "10\n",
      "20\n",
      "30\n",
      "40\n",
      "50\n",
      "60\n",
      "70\n",
      "80\n",
      "90\n",
      "100\n",
      "110\n",
      "120\n",
      "130\n",
      "140\n",
      "150\n",
      "160\n",
      "170\n",
      "180\n",
      "190\n",
      "CPU times: user 47min 25s, sys: 18min 12s, total: 1h 5min 37s\n",
      "Wall time: 1h 5min 27s\n"
     ]
    }
   ],
   "source": [
    "%%time\n",
    "for i in range(num_steps):\n",
    "    t += dt\n",
    "\n",
    "    # Update the right hand side reusing the initial vector\n",
    "    with b.localForm() as loc_b:\n",
    "        loc_b.set(0)\n",
    "    fem.petsc.assemble_vector(b, linear_form)\n",
    "    \n",
    "    # Apply Dirichlet boundary condition to the vector\n",
    "    fem.petsc.apply_lifting(b, [bilinear_form], [bc_tot])\n",
    "    b.ghostUpdate(addv=PETSc.InsertMode.ADD_VALUES, mode=PETSc.ScatterMode.REVERSE)\n",
    "    fem.petsc.set_bc(b, bc_tot)\n",
    "\n",
    "    # Solve linear problem\n",
    "    solver.solve(b, T_h.vector)\n",
    "    T_h.x.scatter_forward()\n",
    "\n",
    "    # Update solution at previous time step (u_n)\n",
    "    T_n.x.array[:] = T_h.x.array\n",
    "    \n",
    "    # Write solution to file\n",
    "    xdmf.write_function(T_h, t)\n",
    "        \n",
    "    if i % 10 == 0:\n",
    "        print(i)\n",
    "        \n",
    "xdmf.close()"
   ]
  },
  {
   "cell_type": "code",
   "execution_count": null,
   "id": "3e998aeb-a408-47f3-b541-a4b2526a1b8f",
   "metadata": {},
   "outputs": [],
   "source": []
  }
 ],
 "metadata": {
  "kernelspec": {
   "display_name": "Python 3 (ipykernel)",
   "language": "python",
   "name": "python3"
  },
  "language_info": {
   "codemirror_mode": {
    "name": "ipython",
    "version": 3
   },
   "file_extension": ".py",
   "mimetype": "text/x-python",
   "name": "python",
   "nbconvert_exporter": "python",
   "pygments_lexer": "ipython3",
   "version": "3.10.6"
  }
 },
 "nbformat": 4,
 "nbformat_minor": 5
}
