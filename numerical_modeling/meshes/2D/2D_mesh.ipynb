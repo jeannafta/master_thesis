{
 "cells": [
  {
   "cell_type": "markdown",
   "id": "ff58840d-bb5c-447f-89da-97c4623decc5",
   "metadata": {},
   "source": [
    "# 2D mesh to validate the advection-diffusion solver"
   ]
  },
  {
   "cell_type": "markdown",
   "id": "f34c176c-672f-437a-bfba-886ebbb483db",
   "metadata": {},
   "source": [
    "This mesh represents two rectangles adjacent to each other, with the rectangle on the left having a slightly higher height than the rectangle on the right. The left rectangle represents water flowing vertically from top to bottom at a certain velocity **q**. The right rectangle represents metal. The objective is to study the heat transmission through the system when the incoming water temperature is higher than the initial temperature of the system, for different values of **q**. An energy balance is also performed to verify that energy is conserved within the system (no energy losses at the interface between the two materials, notably)."
   ]
  },
  {
   "cell_type": "markdown",
   "id": "134ff7b9-540b-4ed5-92dc-51088a076db8",
   "metadata": {},
   "source": [
    "## Define geometry"
   ]
  },
  {
   "cell_type": "code",
   "execution_count": 1,
   "id": "1a6796d5-2fa2-4c2b-beec-8c8c19794cb8",
   "metadata": {},
   "outputs": [],
   "source": [
    "import gmsh\n",
    "import numpy as np\n",
    "from math import cos, sin, pi\n",
    "\n",
    "# initialize the model\n",
    "gmsh.initialize()\n",
    "gmsh.option.setNumber(\"General.Terminal\", 1)\n",
    "\n",
    "gmsh.model.add(\"2D_diffusion_advection\")\n",
    "\n",
    "L = 2\n",
    "h = 2\n",
    "dh = 0.1\n",
    "\n",
    "# Define points\n",
    "geom = gmsh.model.geo\n",
    "p1 = geom.addPoint(0, 0, 0)\n",
    "p2 = geom.addPoint(L/2, 0, 0)\n",
    "p3 = geom.addPoint(L, 0, 0)\n",
    "p4 = geom.addPoint(L, h, 0)\n",
    "p5 = geom.addPoint(L/2, h, 0)\n",
    "p6 = geom.addPoint(L/2, h+dh, 0)\n",
    "p7 = geom.addPoint(0, h+dh, 0)\n",
    "\n",
    "# Define lines from points\n",
    "l1 = geom.addLine(p1, p2)\n",
    "l2 = geom.addLine(p2, p3)\n",
    "l3 = geom.addLine(p3, p4)\n",
    "l4 = geom.addLine(p4, p5)\n",
    "l5 = geom.addLine(p5, p6)\n",
    "l6 = geom.addLine(p6, p7)\n",
    "l7 = geom.addLine(p7, p1)\n",
    "l8 = geom.addLine(p2, p5)\n",
    "\n",
    "# Create curve loops\n",
    "cl_left = geom.addCurveLoop([l1, l8, l5, l6, l7])\n",
    "cl_right = geom.addCurveLoop([l2, l3, l4, -l8])\n",
    "    \n",
    "# Define surfaces\n",
    "s_left = geom.addPlaneSurface([cl_left])\n",
    "s_right = geom.addPlaneSurface([cl_right])\n",
    "\n",
    "geom.synchronize()"
   ]
  },
  {
   "cell_type": "markdown",
   "id": "be3ca398-659d-4237-8c0a-d8f790cb5e61",
   "metadata": {},
   "source": [
    "## Define surfaces for materials"
   ]
  },
  {
   "cell_type": "code",
   "execution_count": 2,
   "id": "f89da7c0-7b72-4572-ad37-a723426789d8",
   "metadata": {},
   "outputs": [],
   "source": [
    "# Fluid domain\n",
    "gmsh.model.addPhysicalGroup(2, [s_left], 101)\n",
    "gmsh.model.setPhysicalName(2, 101, 'fluid')\n",
    "\n",
    "# Rock domain\n",
    "gmsh.model.addPhysicalGroup(2, [s_right], 102)\n",
    "gmsh.model.setPhysicalName(2, 102, 'steel')"
   ]
  },
  {
   "cell_type": "markdown",
   "id": "52108b02-2a8a-4f0d-be7b-133b331a67f5",
   "metadata": {},
   "source": [
    "## Define curves for boundary conditions and energy calculations"
   ]
  },
  {
   "cell_type": "code",
   "execution_count": 3,
   "id": "36045d1c-5223-4033-8a24-9657ffd308d7",
   "metadata": {},
   "outputs": [],
   "source": [
    "gmsh.model.addPhysicalGroup(1, [l6], 1)\n",
    "gmsh.model.setPhysicalName(1, 1, 'inlet')\n",
    "\n",
    "gmsh.model.addPhysicalGroup(1, [l1], 2)\n",
    "gmsh.model.setPhysicalName(1, 2, 'outlet')"
   ]
  },
  {
   "cell_type": "markdown",
   "id": "65b30ad9-5cf5-4ec9-a898-11d602508f82",
   "metadata": {},
   "source": [
    "## Generate mesh"
   ]
  },
  {
   "cell_type": "code",
   "execution_count": 4,
   "id": "810e843d-f69e-4e5c-b963-638a263f156a",
   "metadata": {},
   "outputs": [
    {
     "name": "stdout",
     "output_type": "stream",
     "text": [
      "Info    : Meshing 1D...\n",
      "Info    : [  0%] Meshing curve 1 (Line)\n",
      "Info    : [ 20%] Meshing curve 2 (Line)\n",
      "Info    : [ 30%] Meshing curve 3 (Line)\n",
      "Info    : [ 40%] Meshing curve 4 (Line)\n",
      "Info    : [ 50%] Meshing curve 5 (Line)\n",
      "Info    : [ 70%] Meshing curve 6 (Line)\n",
      "Info    : [ 80%] Meshing curve 7 (Line)\n",
      "Info    : [ 90%] Meshing curve 8 (Line)\n",
      "Info    : Done meshing 1D (Wall 0.000717411s, CPU 0.001225s)\n",
      "Info    : Meshing 2D...\n",
      "Info    : [  0%] Meshing surface 1 (Plane, Frontal-Delaunay)\n",
      "Info    : [ 50%] Meshing surface 2 (Plane, Frontal-Delaunay)\n",
      "Info    : Done meshing 2D (Wall 1.48758s, CPU 1.4743s)\n",
      "Info    : 48023 nodes 96251 elements\n",
      "Info    : Writing '2D_mesh.msh'...\n",
      "Info    : Done writing '2D_mesh.msh'\n"
     ]
    }
   ],
   "source": [
    "# Define the mesh element size\n",
    "lc = 0.01\n",
    "gmsh.model.mesh.setSize(gmsh.model.getEntities(), lc)\n",
    "\n",
    "gmsh.model.mesh.generate(2)\n",
    "\n",
    "# Save mesh\n",
    "filename = '2D_mesh.msh'\n",
    "gmsh.write(filename)\n",
    "\n",
    "gmsh.finalize()"
   ]
  },
  {
   "cell_type": "code",
   "execution_count": null,
   "id": "df59e66e-6824-4387-aac4-868bed47c66f",
   "metadata": {},
   "outputs": [],
   "source": []
  }
 ],
 "metadata": {
  "kernelspec": {
   "display_name": "Python 3 (ipykernel)",
   "language": "python",
   "name": "python3"
  },
  "language_info": {
   "codemirror_mode": {
    "name": "ipython",
    "version": 3
   },
   "file_extension": ".py",
   "mimetype": "text/x-python",
   "name": "python",
   "nbconvert_exporter": "python",
   "pygments_lexer": "ipython3",
   "version": "3.10.6"
  }
 },
 "nbformat": 4,
 "nbformat_minor": 5
}
