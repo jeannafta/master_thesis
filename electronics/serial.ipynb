{
 "cells": [
  {
   "cell_type": "code",
   "execution_count": 1,
   "id": "26506587-6e0b-4884-8963-c7b0dfcaec72",
   "metadata": {},
   "outputs": [],
   "source": [
    "import numpy as np\n",
    "import matplotlib.pyplot as plt\n",
    "from scipy.interpolate import interp1d\n",
    "\n",
    "import serial\n",
    "import csv\n",
    "\n",
    "from datetime import date\n",
    "from datetime import datetime"
   ]
  },
  {
   "cell_type": "markdown",
   "id": "ad496e4e-137d-46a7-ae55-e71e823830fd",
   "metadata": {},
   "source": [
    "## Resistance-temperature relation for each thermistor"
   ]
  },
  {
   "cell_type": "markdown",
   "id": "edfa0cd0-4edd-45e7-8f35-7a799641c41e",
   "metadata": {},
   "source": [
    "#### Fluid temperature transducer"
   ]
  },
  {
   "cell_type": "code",
   "execution_count": 2,
   "id": "133f988d-1d5e-49e6-9fd7-47b9c687c2f2",
   "metadata": {},
   "outputs": [
    {
     "data": {
      "image/png": "[encoded data removed]",
      "text/plain": [
       "<Figure size 432x288 with 1 Axes>"
      ]
     },
     "metadata": {
      "needs_background": "light"
     },
     "output_type": "display_data"
    }
   ],
   "source": [
    "table_fluid = np.genfromtxt('transducers_data/Table_R-T_fluid_T_transducer.csv', delimiter=',', skip_header=1)\n",
    "\n",
    "# compute LMS cubic regression\n",
    "x, y = table_fluid[:, 1], table_fluid[:, 0]\n",
    "fit_fluid = interp1d(x, y, 'cubic')\n",
    "\n",
    "# check that f is a good approximation\n",
    "x_new = np.linspace(x[-1], x[0], 1000)\n",
    "y_new = fit_fluid(x_new)\n",
    "\n",
    "plt.plot(x, y, 'o', x_new, y_new)\n",
    "plt.show()"
   ]
  },
  {
   "cell_type": "markdown",
   "id": "68d62a82-5300-42b1-8781-0bbcce46be37",
   "metadata": {},
   "source": [
    "#### Surface temperature transducer"
   ]
  },
  {
   "cell_type": "code",
   "execution_count": 3,
   "id": "ab9693b4-1f25-470c-9bd5-02735ae9d74c",
   "metadata": {},
   "outputs": [
    {
     "data": {
      "image/png": "[encoded data removed]",
      "text/plain": [
       "<Figure size 432x288 with 1 Axes>"
      ]
     },
     "metadata": {
      "needs_background": "light"
     },
     "output_type": "display_data"
    }
   ],
   "source": [
    "table_surface = np.genfromtxt('transducers_data/Table_R-T_surface_T_transducer.csv', delimiter=',', skip_header=1)\n",
    "\n",
    "# compute LMS cubic regression\n",
    "x, y = table_surface[:, 1], table_surface[:, 0]\n",
    "fit_surface = interp1d(x, y, 'cubic')\n",
    "\n",
    "# check that f is a good approximation\n",
    "x_new = np.linspace(x[-1], x[0], 1000)\n",
    "y_new = fit_surface(x_new)\n",
    "\n",
    "plt.plot(x, y, 'o', x_new, y_new)\n",
    "plt.show()"
   ]
  },
  {
   "cell_type": "markdown",
   "id": "8a5689ac-6440-4b44-bda8-6b236ba6558f",
   "metadata": {},
   "source": [
    "## Connection to Arduino and data collection"
   ]
  },
  {
   "cell_type": "code",
   "execution_count": 4,
   "id": "23f42749-3259-461d-83a7-9b24f32a9d9a",
   "metadata": {},
   "outputs": [
    {
     "name": "stdout",
     "output_type": "stream",
     "text": [
      "Connected to Arduino port\n"
     ]
    }
   ],
   "source": [
    "# Connect to Arduino port\n",
    "serial = serial.Serial(\"/dev/ttyACM1\", 9600)\n",
    "print(\"Connected to Arduino port\")"
   ]
  },
  {
   "cell_type": "code",
   "execution_count": 5,
   "id": "36ada2d1-fe01-4f75-a1d9-f1b7ab8cf8f2",
   "metadata": {},
   "outputs": [
    {
     "name": "stdout",
     "output_type": "stream",
     "text": [
      "Data collection is completed\n"
     ]
    }
   ],
   "source": [
    "# Open the file and write the head\n",
    "file_name = str(date.today())+\"_\"+datetime.now().strftime(\"%H:%M:%S\")+\".csv\"\n",
    "\n",
    "try:\n",
    "    with open(\"analog_data/\"+file_name, 'w', newline='') as file:\n",
    "        writer = csv.writer(file, delimiter=',')\n",
    "        writer.writerow([\"Time\", \"Time\", \"Resistance tube\", \"Resistance surface\", \"Temperature tube\", \"Temperature surface\"])\n",
    "\n",
    "        i = 1\n",
    "        while True:\n",
    "            row = serial.readline().decode(\"utf-8\")\n",
    "            R1 = float(row.split(\",\")[0])\n",
    "            R2 = float(row.split(\",\")[1])\n",
    "            writer.writerow([i, datetime.now().strftime(\"%H:%M:%S\"), R1, R2, fit_fluid(R1), fit_surface(R2)])\n",
    "            i+=1\n",
    "            \n",
    "except KeyboardInterrupt:\n",
    "    print(\"Data collection is completed\")"
   ]
  }
 ],
 "metadata": {
  "kernelspec": {
   "display_name": "Python 3 (ipykernel)",
   "language": "python",
   "name": "python3"
  },
  "language_info": {
   "codemirror_mode": {
    "name": "ipython",
    "version": 3
   },
   "file_extension": ".py",
   "mimetype": "text/x-python",
   "name": "python",
   "nbconvert_exporter": "python",
   "pygments_lexer": "ipython3",
   "version": "3.8.13"
  }
 },
 "nbformat": 4,
 "nbformat_minor": 5
}
